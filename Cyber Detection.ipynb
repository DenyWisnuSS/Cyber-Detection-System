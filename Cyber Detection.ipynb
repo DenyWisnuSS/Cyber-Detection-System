{
 "cells": [
  {
   "cell_type": "code",
   "execution_count": 42,
   "metadata": {
    "id": "nolOtwA8m-mD"
   },
   "outputs": [],
   "source": [
    "# Import Library\n",
    "import numpy as np\n",
    "import pandas as pd\n",
    "import matplotlib.pyplot as plt\n",
    "import seaborn as sns\n",
    "%matplotlib inline"
   ]
  },
  {
   "cell_type": "code",
   "execution_count": 43,
   "metadata": {
    "colab": {
     "base_uri": "https://localhost:8080/"
    },
    "id": "Lkv_dd_inNy4",
    "outputId": "2b1006e9-1631-460a-eb34-9edaadc4f30e"
   },
   "outputs": [
    {
     "name": "stdout",
     "output_type": "stream",
     "text": [
      "training  (82332, 45)\n",
      "testing  (175341, 45)\n"
     ]
    }
   ],
   "source": [
    "## load data\n",
    "training = pd.read_csv(\"https://cf-courses-data.s3.us.cloud-object-storage.appdomain.cloud/IBMSkillsNetwork-GPXX0Q8REN/UNSW_NB15_training-set.csv\")\n",
    "testing = pd.read_csv(\"https://cf-courses-data.s3.us.cloud-object-storage.appdomain.cloud/IBMSkillsNetwork-GPXX0Q8REN/UNSW_NB15_testing-set.csv\")\n",
    "print(\"training \",training.shape)\n",
    "print(\"testing \",testing.shape)"
   ]
  },
  {
   "cell_type": "code",
   "execution_count": 44,
   "metadata": {
    "colab": {
     "base_uri": "https://localhost:8080/"
    },
    "id": "oyJknOlDnRqw",
    "outputId": "5d85a563-fbde-43ae-c6f5-743a060fc024"
   },
   "outputs": [
    {
     "data": {
      "text/plain": [
       "True"
      ]
     },
     "execution_count": 44,
     "metadata": {},
     "output_type": "execute_result"
    }
   ],
   "source": [
    "# cek kolom training dan testing mempunyai kesamaan\n",
    "all(training.columns == testing.columns)"
   ]
  },
  {
   "cell_type": "code",
   "execution_count": 45,
   "metadata": {
    "colab": {
     "base_uri": "https://localhost:8080/",
     "height": 412
    },
    "id": "bSWQ0ClgnjQK",
    "outputId": "5998cf99-1f28-42ca-dae3-1ff02e82b75f"
   },
   "outputs": [
    {
     "data": {
      "text/html": [
       "<div>\n",
       "<style scoped>\n",
       "    .dataframe tbody tr th:only-of-type {\n",
       "        vertical-align: middle;\n",
       "    }\n",
       "\n",
       "    .dataframe tbody tr th {\n",
       "        vertical-align: top;\n",
       "    }\n",
       "\n",
       "    .dataframe thead th {\n",
       "        text-align: right;\n",
       "    }\n",
       "</style>\n",
       "<table border=\"1\" class=\"dataframe\">\n",
       "  <thead>\n",
       "    <tr style=\"text-align: right;\">\n",
       "      <th></th>\n",
       "      <th>dur</th>\n",
       "      <th>proto</th>\n",
       "      <th>service</th>\n",
       "      <th>state</th>\n",
       "      <th>spkts</th>\n",
       "      <th>dpkts</th>\n",
       "      <th>sbytes</th>\n",
       "      <th>dbytes</th>\n",
       "      <th>rate</th>\n",
       "      <th>sttl</th>\n",
       "      <th>...</th>\n",
       "      <th>ct_dst_sport_ltm</th>\n",
       "      <th>ct_dst_src_ltm</th>\n",
       "      <th>is_ftp_login</th>\n",
       "      <th>ct_ftp_cmd</th>\n",
       "      <th>ct_flw_http_mthd</th>\n",
       "      <th>ct_src_ltm</th>\n",
       "      <th>ct_srv_dst</th>\n",
       "      <th>is_sm_ips_ports</th>\n",
       "      <th>attack_cat</th>\n",
       "      <th>label</th>\n",
       "    </tr>\n",
       "  </thead>\n",
       "  <tbody>\n",
       "    <tr>\n",
       "      <th>0</th>\n",
       "      <td>0.000011</td>\n",
       "      <td>udp</td>\n",
       "      <td>-</td>\n",
       "      <td>INT</td>\n",
       "      <td>2</td>\n",
       "      <td>0</td>\n",
       "      <td>496</td>\n",
       "      <td>0</td>\n",
       "      <td>90909.09020</td>\n",
       "      <td>254</td>\n",
       "      <td>...</td>\n",
       "      <td>1</td>\n",
       "      <td>2</td>\n",
       "      <td>0</td>\n",
       "      <td>0</td>\n",
       "      <td>0</td>\n",
       "      <td>1</td>\n",
       "      <td>2</td>\n",
       "      <td>0</td>\n",
       "      <td>Normal</td>\n",
       "      <td>0</td>\n",
       "    </tr>\n",
       "    <tr>\n",
       "      <th>1</th>\n",
       "      <td>0.000008</td>\n",
       "      <td>udp</td>\n",
       "      <td>-</td>\n",
       "      <td>INT</td>\n",
       "      <td>2</td>\n",
       "      <td>0</td>\n",
       "      <td>1762</td>\n",
       "      <td>0</td>\n",
       "      <td>125000.00030</td>\n",
       "      <td>254</td>\n",
       "      <td>...</td>\n",
       "      <td>1</td>\n",
       "      <td>2</td>\n",
       "      <td>0</td>\n",
       "      <td>0</td>\n",
       "      <td>0</td>\n",
       "      <td>1</td>\n",
       "      <td>2</td>\n",
       "      <td>0</td>\n",
       "      <td>Normal</td>\n",
       "      <td>0</td>\n",
       "    </tr>\n",
       "    <tr>\n",
       "      <th>2</th>\n",
       "      <td>0.000005</td>\n",
       "      <td>udp</td>\n",
       "      <td>-</td>\n",
       "      <td>INT</td>\n",
       "      <td>2</td>\n",
       "      <td>0</td>\n",
       "      <td>1068</td>\n",
       "      <td>0</td>\n",
       "      <td>200000.00510</td>\n",
       "      <td>254</td>\n",
       "      <td>...</td>\n",
       "      <td>1</td>\n",
       "      <td>3</td>\n",
       "      <td>0</td>\n",
       "      <td>0</td>\n",
       "      <td>0</td>\n",
       "      <td>1</td>\n",
       "      <td>3</td>\n",
       "      <td>0</td>\n",
       "      <td>Normal</td>\n",
       "      <td>0</td>\n",
       "    </tr>\n",
       "    <tr>\n",
       "      <th>3</th>\n",
       "      <td>0.000006</td>\n",
       "      <td>udp</td>\n",
       "      <td>-</td>\n",
       "      <td>INT</td>\n",
       "      <td>2</td>\n",
       "      <td>0</td>\n",
       "      <td>900</td>\n",
       "      <td>0</td>\n",
       "      <td>166666.66080</td>\n",
       "      <td>254</td>\n",
       "      <td>...</td>\n",
       "      <td>1</td>\n",
       "      <td>3</td>\n",
       "      <td>0</td>\n",
       "      <td>0</td>\n",
       "      <td>0</td>\n",
       "      <td>2</td>\n",
       "      <td>3</td>\n",
       "      <td>0</td>\n",
       "      <td>Normal</td>\n",
       "      <td>0</td>\n",
       "    </tr>\n",
       "    <tr>\n",
       "      <th>4</th>\n",
       "      <td>0.000010</td>\n",
       "      <td>udp</td>\n",
       "      <td>-</td>\n",
       "      <td>INT</td>\n",
       "      <td>2</td>\n",
       "      <td>0</td>\n",
       "      <td>2126</td>\n",
       "      <td>0</td>\n",
       "      <td>100000.00250</td>\n",
       "      <td>254</td>\n",
       "      <td>...</td>\n",
       "      <td>1</td>\n",
       "      <td>3</td>\n",
       "      <td>0</td>\n",
       "      <td>0</td>\n",
       "      <td>0</td>\n",
       "      <td>2</td>\n",
       "      <td>3</td>\n",
       "      <td>0</td>\n",
       "      <td>Normal</td>\n",
       "      <td>0</td>\n",
       "    </tr>\n",
       "    <tr>\n",
       "      <th>5</th>\n",
       "      <td>0.000003</td>\n",
       "      <td>udp</td>\n",
       "      <td>-</td>\n",
       "      <td>INT</td>\n",
       "      <td>2</td>\n",
       "      <td>0</td>\n",
       "      <td>784</td>\n",
       "      <td>0</td>\n",
       "      <td>333333.32150</td>\n",
       "      <td>254</td>\n",
       "      <td>...</td>\n",
       "      <td>1</td>\n",
       "      <td>2</td>\n",
       "      <td>0</td>\n",
       "      <td>0</td>\n",
       "      <td>0</td>\n",
       "      <td>2</td>\n",
       "      <td>2</td>\n",
       "      <td>0</td>\n",
       "      <td>Normal</td>\n",
       "      <td>0</td>\n",
       "    </tr>\n",
       "    <tr>\n",
       "      <th>6</th>\n",
       "      <td>0.000006</td>\n",
       "      <td>udp</td>\n",
       "      <td>-</td>\n",
       "      <td>INT</td>\n",
       "      <td>2</td>\n",
       "      <td>0</td>\n",
       "      <td>1960</td>\n",
       "      <td>0</td>\n",
       "      <td>166666.66080</td>\n",
       "      <td>254</td>\n",
       "      <td>...</td>\n",
       "      <td>1</td>\n",
       "      <td>2</td>\n",
       "      <td>0</td>\n",
       "      <td>0</td>\n",
       "      <td>0</td>\n",
       "      <td>2</td>\n",
       "      <td>2</td>\n",
       "      <td>0</td>\n",
       "      <td>Normal</td>\n",
       "      <td>0</td>\n",
       "    </tr>\n",
       "    <tr>\n",
       "      <th>7</th>\n",
       "      <td>0.000028</td>\n",
       "      <td>udp</td>\n",
       "      <td>-</td>\n",
       "      <td>INT</td>\n",
       "      <td>2</td>\n",
       "      <td>0</td>\n",
       "      <td>1384</td>\n",
       "      <td>0</td>\n",
       "      <td>35714.28522</td>\n",
       "      <td>254</td>\n",
       "      <td>...</td>\n",
       "      <td>1</td>\n",
       "      <td>3</td>\n",
       "      <td>0</td>\n",
       "      <td>0</td>\n",
       "      <td>0</td>\n",
       "      <td>1</td>\n",
       "      <td>3</td>\n",
       "      <td>0</td>\n",
       "      <td>Normal</td>\n",
       "      <td>0</td>\n",
       "    </tr>\n",
       "    <tr>\n",
       "      <th>8</th>\n",
       "      <td>0.000000</td>\n",
       "      <td>arp</td>\n",
       "      <td>-</td>\n",
       "      <td>INT</td>\n",
       "      <td>1</td>\n",
       "      <td>0</td>\n",
       "      <td>46</td>\n",
       "      <td>0</td>\n",
       "      <td>0.00000</td>\n",
       "      <td>0</td>\n",
       "      <td>...</td>\n",
       "      <td>2</td>\n",
       "      <td>2</td>\n",
       "      <td>0</td>\n",
       "      <td>0</td>\n",
       "      <td>0</td>\n",
       "      <td>2</td>\n",
       "      <td>2</td>\n",
       "      <td>1</td>\n",
       "      <td>Normal</td>\n",
       "      <td>0</td>\n",
       "    </tr>\n",
       "    <tr>\n",
       "      <th>9</th>\n",
       "      <td>0.000000</td>\n",
       "      <td>arp</td>\n",
       "      <td>-</td>\n",
       "      <td>INT</td>\n",
       "      <td>1</td>\n",
       "      <td>0</td>\n",
       "      <td>46</td>\n",
       "      <td>0</td>\n",
       "      <td>0.00000</td>\n",
       "      <td>0</td>\n",
       "      <td>...</td>\n",
       "      <td>2</td>\n",
       "      <td>2</td>\n",
       "      <td>0</td>\n",
       "      <td>0</td>\n",
       "      <td>0</td>\n",
       "      <td>2</td>\n",
       "      <td>2</td>\n",
       "      <td>1</td>\n",
       "      <td>Normal</td>\n",
       "      <td>0</td>\n",
       "    </tr>\n",
       "  </tbody>\n",
       "</table>\n",
       "<p>10 rows × 44 columns</p>\n",
       "</div>"
      ],
      "text/plain": [
       "        dur proto service state  spkts  dpkts  sbytes  dbytes          rate  \\\n",
       "0  0.000011   udp       -   INT      2      0     496       0   90909.09020   \n",
       "1  0.000008   udp       -   INT      2      0    1762       0  125000.00030   \n",
       "2  0.000005   udp       -   INT      2      0    1068       0  200000.00510   \n",
       "3  0.000006   udp       -   INT      2      0     900       0  166666.66080   \n",
       "4  0.000010   udp       -   INT      2      0    2126       0  100000.00250   \n",
       "5  0.000003   udp       -   INT      2      0     784       0  333333.32150   \n",
       "6  0.000006   udp       -   INT      2      0    1960       0  166666.66080   \n",
       "7  0.000028   udp       -   INT      2      0    1384       0   35714.28522   \n",
       "8  0.000000   arp       -   INT      1      0      46       0       0.00000   \n",
       "9  0.000000   arp       -   INT      1      0      46       0       0.00000   \n",
       "\n",
       "   sttl  ...  ct_dst_sport_ltm  ct_dst_src_ltm  is_ftp_login  ct_ftp_cmd  \\\n",
       "0   254  ...                 1               2             0           0   \n",
       "1   254  ...                 1               2             0           0   \n",
       "2   254  ...                 1               3             0           0   \n",
       "3   254  ...                 1               3             0           0   \n",
       "4   254  ...                 1               3             0           0   \n",
       "5   254  ...                 1               2             0           0   \n",
       "6   254  ...                 1               2             0           0   \n",
       "7   254  ...                 1               3             0           0   \n",
       "8     0  ...                 2               2             0           0   \n",
       "9     0  ...                 2               2             0           0   \n",
       "\n",
       "   ct_flw_http_mthd  ct_src_ltm  ct_srv_dst  is_sm_ips_ports  attack_cat  \\\n",
       "0                 0           1           2                0      Normal   \n",
       "1                 0           1           2                0      Normal   \n",
       "2                 0           1           3                0      Normal   \n",
       "3                 0           2           3                0      Normal   \n",
       "4                 0           2           3                0      Normal   \n",
       "5                 0           2           2                0      Normal   \n",
       "6                 0           2           2                0      Normal   \n",
       "7                 0           1           3                0      Normal   \n",
       "8                 0           2           2                1      Normal   \n",
       "9                 0           2           2                1      Normal   \n",
       "\n",
       "   label  \n",
       "0      0  \n",
       "1      0  \n",
       "2      0  \n",
       "3      0  \n",
       "4      0  \n",
       "5      0  \n",
       "6      0  \n",
       "7      0  \n",
       "8      0  \n",
       "9      0  \n",
       "\n",
       "[10 rows x 44 columns]"
      ]
     },
     "execution_count": 45,
     "metadata": {},
     "output_type": "execute_result"
    }
   ],
   "source": [
    "# Membuat dataframe baru dengan menggabungkan data training dan testing serta membuang kolom 'id'\n",
    "df = pd.concat([training,testing]).drop('id',axis=1)\n",
    "df = df.reset_index(drop=True)\n",
    "\n",
    "# Menampilkan 10 data teratas\n",
    "df.head(10)"
   ]
  },
  {
   "cell_type": "markdown",
   "metadata": {
    "id": "Un4PQAvIocT9"
   },
   "source": [
    "Dataset ini mencakup 43 variabel yang berhubungan dengan monitoring network dan 2 variabel yang mendefinisikan apakah serangan terjadi (label) dan jenis serangan (attack_cat).\n",
    "\n",
    "Mari kita lihat sekilas tentang jenis-jenis serangan."
   ]
  },
  {
   "cell_type": "code",
   "execution_count": 46,
   "metadata": {
    "colab": {
     "base_uri": "https://localhost:8080/"
    },
    "id": "YIj1DHuHoG1c",
    "outputId": "f33fb618-d705-49de-c830-15ea7795967b"
   },
   "outputs": [
    {
     "data": {
      "text/plain": [
       "array(['Normal', 'Reconnaissance', 'Backdoor', 'DoS', 'Exploits',\n",
       "       'Analysis', 'Fuzzers', 'Worms', 'Shellcode', 'Generic'],\n",
       "      dtype=object)"
      ]
     },
     "execution_count": 46,
     "metadata": {},
     "output_type": "execute_result"
    }
   ],
   "source": [
    "# cek unique value di kolom attack_cat\n",
    "df.attack_cat.unique()"
   ]
  },
  {
   "cell_type": "code",
   "execution_count": 47,
   "metadata": {
    "colab": {
     "base_uri": "https://localhost:8080/"
    },
    "id": "MoPqYW-XK34b",
    "outputId": "1ad9de30-d2fb-4f62-aaaf-ad4ef7fa6a7e"
   },
   "outputs": [
    {
     "data": {
      "text/plain": [
       "array(['udp', 'arp', 'tcp', 'igmp', 'ospf', 'sctp', 'gre', 'ggp', 'ip',\n",
       "       'ipnip', 'st2', 'argus', 'chaos', 'egp', 'emcon', 'nvp', 'pup',\n",
       "       'xnet', 'mux', 'dcn', 'hmp', 'prm', 'trunk-1', 'trunk-2',\n",
       "       'xns-idp', 'leaf-1', 'leaf-2', 'irtp', 'rdp', 'netblt', 'mfe-nsp',\n",
       "       'merit-inp', '3pc', 'idpr', 'ddp', 'idpr-cmtp', 'tp++', 'ipv6',\n",
       "       'sdrp', 'ipv6-frag', 'ipv6-route', 'idrp', 'mhrp', 'i-nlsp', 'rvd',\n",
       "       'mobile', 'narp', 'skip', 'tlsp', 'ipv6-no', 'any', 'ipv6-opts',\n",
       "       'cftp', 'sat-expak', 'ippc', 'kryptolan', 'sat-mon', 'cpnx', 'wsn',\n",
       "       'pvp', 'br-sat-mon', 'sun-nd', 'wb-mon', 'vmtp', 'ttp', 'vines',\n",
       "       'nsfnet-igp', 'dgp', 'eigrp', 'tcf', 'sprite-rpc', 'larp', 'mtp',\n",
       "       'ax.25', 'ipip', 'aes-sp3-d', 'micp', 'encap', 'pri-enc', 'gmtp',\n",
       "       'ifmp', 'pnni', 'qnx', 'scps', 'cbt', 'bbn-rcc', 'igp', 'bna',\n",
       "       'swipe', 'visa', 'ipcv', 'cphb', 'iso-tp4', 'wb-expak', 'sep',\n",
       "       'secure-vmtp', 'xtp', 'il', 'rsvp', 'unas', 'fc', 'iso-ip',\n",
       "       'etherip', 'pim', 'aris', 'a/n', 'ipcomp', 'snp', 'compaq-peer',\n",
       "       'ipx-n-ip', 'pgm', 'vrrp', 'l2tp', 'zero', 'ddx', 'iatp', 'stp',\n",
       "       'srp', 'uti', 'sm', 'smp', 'isis', 'ptp', 'fire', 'crtp', 'crudp',\n",
       "       'sccopmce', 'iplt', 'pipe', 'sps', 'ib', 'icmp', 'rtp'],\n",
       "      dtype=object)"
      ]
     },
     "execution_count": 47,
     "metadata": {},
     "output_type": "execute_result"
    }
   ],
   "source": [
    "df.proto.unique()"
   ]
  },
  {
   "cell_type": "code",
   "execution_count": 48,
   "metadata": {
    "colab": {
     "base_uri": "https://localhost:8080/"
    },
    "id": "iazMYP-SLCdi",
    "outputId": "5af21a17-25ac-429d-aea7-ff50c48d6345"
   },
   "outputs": [
    {
     "data": {
      "text/plain": [
       "array(['INT', 'FIN', 'REQ', 'ACC', 'CON', 'RST', 'CLO', 'ECO', 'PAR',\n",
       "       'URN', 'no'], dtype=object)"
      ]
     },
     "execution_count": 48,
     "metadata": {},
     "output_type": "execute_result"
    }
   ],
   "source": [
    "df.state.unique()"
   ]
  },
  {
   "cell_type": "markdown",
   "metadata": {
    "id": "ZpDAtUX9BQf4"
   },
   "source": [
    "*INT* = Internaticonal"
   ]
  },
  {
   "cell_type": "code",
   "execution_count": 49,
   "metadata": {
    "colab": {
     "base_uri": "https://localhost:8080/"
    },
    "id": "AQJJVpmMAUFp",
    "outputId": "ab34b55c-37c0-4acb-9707-d27dbd8a918f"
   },
   "outputs": [
    {
     "data": {
      "text/plain": [
       "array(['-', 'http', 'ftp', 'ftp-data', 'smtp', 'pop3', 'dns', 'snmp',\n",
       "       'ssl', 'dhcp', 'irc', 'radius', 'ssh'], dtype=object)"
      ]
     },
     "execution_count": 49,
     "metadata": {},
     "output_type": "execute_result"
    }
   ],
   "source": [
    "df.service.unique()"
   ]
  },
  {
   "cell_type": "code",
   "execution_count": 50,
   "metadata": {
    "colab": {
     "base_uri": "https://localhost:8080/"
    },
    "id": "c-7Qbl__AdRN",
    "outputId": "0bf4f0b5-7b13-4e51-8759-25941b4c2faa"
   },
   "outputs": [
    {
     "name": "stdout",
     "output_type": "stream",
     "text": [
      "0           -\n",
      "1           -\n",
      "2           -\n",
      "3           -\n",
      "4           -\n",
      "         ... \n",
      "257668    dns\n",
      "257669      -\n",
      "257670    dns\n",
      "257671    dns\n",
      "257672    dns\n",
      "Name: service, Length: 257673, dtype: object\n"
     ]
    }
   ],
   "source": [
    "print(df['service'])"
   ]
  },
  {
   "cell_type": "code",
   "execution_count": 51,
   "metadata": {
    "colab": {
     "base_uri": "https://localhost:8080/"
    },
    "id": "GWl78Ukio-4K",
    "outputId": "203abf6b-d0fb-43b2-f774-6a66174f2a2c"
   },
   "outputs": [
    {
     "data": {
      "text/plain": [
       "array([0, 1], dtype=int64)"
      ]
     },
     "execution_count": 51,
     "metadata": {},
     "output_type": "execute_result"
    }
   ],
   "source": [
    "# cek unique value di kolom label\n",
    "df.label.unique()"
   ]
  },
  {
   "cell_type": "code",
   "execution_count": 52,
   "metadata": {
    "colab": {
     "base_uri": "https://localhost:8080/"
    },
    "id": "ss-svD6cLJAg",
    "outputId": "eedb60d2-3e96-4061-dc02-636fc20045f7"
   },
   "outputs": [
    {
     "data": {
      "text/plain": [
       "94928"
      ]
     },
     "execution_count": 52,
     "metadata": {},
     "output_type": "execute_result"
    }
   ],
   "source": [
    "df.duplicated().sum()"
   ]
  },
  {
   "cell_type": "code",
   "execution_count": 53,
   "metadata": {
    "id": "a3oZlurzLR52"
   },
   "outputs": [],
   "source": [
    "df.drop_duplicates(inplace=True)"
   ]
  },
  {
   "cell_type": "code",
   "execution_count": 54,
   "metadata": {
    "colab": {
     "base_uri": "https://localhost:8080/"
    },
    "id": "_TSaD-ICLgsV",
    "outputId": "cbcd30be-f8ab-40b1-8dd4-35715fe1a252"
   },
   "outputs": [
    {
     "data": {
      "text/plain": [
       "dur                  0\n",
       "proto                0\n",
       "service              0\n",
       "state                0\n",
       "spkts                0\n",
       "dpkts                0\n",
       "sbytes               0\n",
       "dbytes               0\n",
       "rate                 0\n",
       "sttl                 0\n",
       "dttl                 0\n",
       "sload                0\n",
       "dload                0\n",
       "sloss                0\n",
       "dloss                0\n",
       "sinpkt               0\n",
       "dinpkt               0\n",
       "sjit                 0\n",
       "djit                 0\n",
       "swin                 0\n",
       "stcpb                0\n",
       "dtcpb                0\n",
       "dwin                 0\n",
       "tcprtt               0\n",
       "synack               0\n",
       "ackdat               0\n",
       "smean                0\n",
       "dmean                0\n",
       "trans_depth          0\n",
       "response_body_len    0\n",
       "ct_srv_src           0\n",
       "ct_state_ttl         0\n",
       "ct_dst_ltm           0\n",
       "ct_src_dport_ltm     0\n",
       "ct_dst_sport_ltm     0\n",
       "ct_dst_src_ltm       0\n",
       "is_ftp_login         0\n",
       "ct_ftp_cmd           0\n",
       "ct_flw_http_mthd     0\n",
       "ct_src_ltm           0\n",
       "ct_srv_dst           0\n",
       "is_sm_ips_ports      0\n",
       "attack_cat           0\n",
       "label                0\n",
       "dtype: int64"
      ]
     },
     "execution_count": 54,
     "metadata": {},
     "output_type": "execute_result"
    }
   ],
   "source": [
    "df.isnull().sum()"
   ]
  },
  {
   "cell_type": "code",
   "execution_count": 55,
   "metadata": {
    "colab": {
     "base_uri": "https://localhost:8080/"
    },
    "id": "3SvSAwNZpFKx",
    "outputId": "3b6e425f-1c93-40c0-e72d-4d5141943238"
   },
   "outputs": [
    {
     "name": "stdout",
     "output_type": "stream",
     "text": [
      "<class 'pandas.core.frame.DataFrame'>\n",
      "Int64Index: 162745 entries, 0 to 257669\n",
      "Data columns (total 44 columns):\n",
      " #   Column             Non-Null Count   Dtype  \n",
      "---  ------             --------------   -----  \n",
      " 0   dur                162745 non-null  float64\n",
      " 1   proto              162745 non-null  object \n",
      " 2   service            162745 non-null  object \n",
      " 3   state              162745 non-null  object \n",
      " 4   spkts              162745 non-null  int64  \n",
      " 5   dpkts              162745 non-null  int64  \n",
      " 6   sbytes             162745 non-null  int64  \n",
      " 7   dbytes             162745 non-null  int64  \n",
      " 8   rate               162745 non-null  float64\n",
      " 9   sttl               162745 non-null  int64  \n",
      " 10  dttl               162745 non-null  int64  \n",
      " 11  sload              162745 non-null  float64\n",
      " 12  dload              162745 non-null  float64\n",
      " 13  sloss              162745 non-null  int64  \n",
      " 14  dloss              162745 non-null  int64  \n",
      " 15  sinpkt             162745 non-null  float64\n",
      " 16  dinpkt             162745 non-null  float64\n",
      " 17  sjit               162745 non-null  float64\n",
      " 18  djit               162745 non-null  float64\n",
      " 19  swin               162745 non-null  int64  \n",
      " 20  stcpb              162745 non-null  int64  \n",
      " 21  dtcpb              162745 non-null  int64  \n",
      " 22  dwin               162745 non-null  int64  \n",
      " 23  tcprtt             162745 non-null  float64\n",
      " 24  synack             162745 non-null  float64\n",
      " 25  ackdat             162745 non-null  float64\n",
      " 26  smean              162745 non-null  int64  \n",
      " 27  dmean              162745 non-null  int64  \n",
      " 28  trans_depth        162745 non-null  int64  \n",
      " 29  response_body_len  162745 non-null  int64  \n",
      " 30  ct_srv_src         162745 non-null  int64  \n",
      " 31  ct_state_ttl       162745 non-null  int64  \n",
      " 32  ct_dst_ltm         162745 non-null  int64  \n",
      " 33  ct_src_dport_ltm   162745 non-null  int64  \n",
      " 34  ct_dst_sport_ltm   162745 non-null  int64  \n",
      " 35  ct_dst_src_ltm     162745 non-null  int64  \n",
      " 36  is_ftp_login       162745 non-null  int64  \n",
      " 37  ct_ftp_cmd         162745 non-null  int64  \n",
      " 38  ct_flw_http_mthd   162745 non-null  int64  \n",
      " 39  ct_src_ltm         162745 non-null  int64  \n",
      " 40  ct_srv_dst         162745 non-null  int64  \n",
      " 41  is_sm_ips_ports    162745 non-null  int64  \n",
      " 42  attack_cat         162745 non-null  object \n",
      " 43  label              162745 non-null  int64  \n",
      "dtypes: float64(11), int64(29), object(4)\n",
      "memory usage: 55.9+ MB\n"
     ]
    }
   ],
   "source": [
    "# cek tipe data dalam dataset\n",
    "df.info()"
   ]
  },
  {
   "cell_type": "code",
   "execution_count": 56,
   "metadata": {
    "colab": {
     "base_uri": "https://localhost:8080/",
     "height": 349
    },
    "id": "vwFuGHjIKnMi",
    "outputId": "1d35eed4-9fed-41fe-c327-26bd49c4d695"
   },
   "outputs": [
    {
     "data": {
      "text/html": [
       "<div>\n",
       "<style scoped>\n",
       "    .dataframe tbody tr th:only-of-type {\n",
       "        vertical-align: middle;\n",
       "    }\n",
       "\n",
       "    .dataframe tbody tr th {\n",
       "        vertical-align: top;\n",
       "    }\n",
       "\n",
       "    .dataframe thead th {\n",
       "        text-align: right;\n",
       "    }\n",
       "</style>\n",
       "<table border=\"1\" class=\"dataframe\">\n",
       "  <thead>\n",
       "    <tr style=\"text-align: right;\">\n",
       "      <th></th>\n",
       "      <th>dur</th>\n",
       "      <th>spkts</th>\n",
       "      <th>dpkts</th>\n",
       "      <th>sbytes</th>\n",
       "      <th>dbytes</th>\n",
       "      <th>rate</th>\n",
       "      <th>sttl</th>\n",
       "      <th>dttl</th>\n",
       "      <th>sload</th>\n",
       "      <th>dload</th>\n",
       "      <th>...</th>\n",
       "      <th>ct_src_dport_ltm</th>\n",
       "      <th>ct_dst_sport_ltm</th>\n",
       "      <th>ct_dst_src_ltm</th>\n",
       "      <th>is_ftp_login</th>\n",
       "      <th>ct_ftp_cmd</th>\n",
       "      <th>ct_flw_http_mthd</th>\n",
       "      <th>ct_src_ltm</th>\n",
       "      <th>ct_srv_dst</th>\n",
       "      <th>is_sm_ips_ports</th>\n",
       "      <th>label</th>\n",
       "    </tr>\n",
       "  </thead>\n",
       "  <tbody>\n",
       "    <tr>\n",
       "      <th>count</th>\n",
       "      <td>162745.000000</td>\n",
       "      <td>162745.000000</td>\n",
       "      <td>162745.000000</td>\n",
       "      <td>1.627450e+05</td>\n",
       "      <td>1.627450e+05</td>\n",
       "      <td>1.627450e+05</td>\n",
       "      <td>162745.000000</td>\n",
       "      <td>162745.00000</td>\n",
       "      <td>1.627450e+05</td>\n",
       "      <td>1.627450e+05</td>\n",
       "      <td>...</td>\n",
       "      <td>162745.000000</td>\n",
       "      <td>162745.000000</td>\n",
       "      <td>162745.000000</td>\n",
       "      <td>162745.000000</td>\n",
       "      <td>162745.000000</td>\n",
       "      <td>162745.000000</td>\n",
       "      <td>162745.000000</td>\n",
       "      <td>162745.000000</td>\n",
       "      <td>162745.000000</td>\n",
       "      <td>162745.000000</td>\n",
       "    </tr>\n",
       "    <tr>\n",
       "      <th>mean</th>\n",
       "      <td>1.252714</td>\n",
       "      <td>28.609475</td>\n",
       "      <td>28.511579</td>\n",
       "      <td>1.291327e+04</td>\n",
       "      <td>2.229745e+04</td>\n",
       "      <td>3.880025e+04</td>\n",
       "      <td>146.598611</td>\n",
       "      <td>125.76245</td>\n",
       "      <td>4.864382e+07</td>\n",
       "      <td>1.038744e+06</td>\n",
       "      <td>...</td>\n",
       "      <td>2.055854</td>\n",
       "      <td>1.465870</td>\n",
       "      <td>3.964398</td>\n",
       "      <td>0.014698</td>\n",
       "      <td>0.014729</td>\n",
       "      <td>0.173922</td>\n",
       "      <td>3.896998</td>\n",
       "      <td>5.045476</td>\n",
       "      <td>0.003988</td>\n",
       "      <td>0.473274</td>\n",
       "    </tr>\n",
       "    <tr>\n",
       "      <th>std</th>\n",
       "      <td>5.093951</td>\n",
       "      <td>168.900118</td>\n",
       "      <td>137.871311</td>\n",
       "      <td>2.169121e+05</td>\n",
       "      <td>1.807485e+05</td>\n",
       "      <td>1.159475e+05</td>\n",
       "      <td>107.455744</td>\n",
       "      <td>116.70385</td>\n",
       "      <td>2.059415e+08</td>\n",
       "      <td>2.968526e+06</td>\n",
       "      <td>...</td>\n",
       "      <td>3.544085</td>\n",
       "      <td>2.221034</td>\n",
       "      <td>6.312773</td>\n",
       "      <td>0.122115</td>\n",
       "      <td>0.122388</td>\n",
       "      <td>0.572048</td>\n",
       "      <td>4.953769</td>\n",
       "      <td>6.451811</td>\n",
       "      <td>0.063023</td>\n",
       "      <td>0.499287</td>\n",
       "    </tr>\n",
       "    <tr>\n",
       "      <th>min</th>\n",
       "      <td>0.000000</td>\n",
       "      <td>1.000000</td>\n",
       "      <td>0.000000</td>\n",
       "      <td>2.400000e+01</td>\n",
       "      <td>0.000000e+00</td>\n",
       "      <td>0.000000e+00</td>\n",
       "      <td>0.000000</td>\n",
       "      <td>0.00000</td>\n",
       "      <td>0.000000e+00</td>\n",
       "      <td>0.000000e+00</td>\n",
       "      <td>...</td>\n",
       "      <td>1.000000</td>\n",
       "      <td>1.000000</td>\n",
       "      <td>1.000000</td>\n",
       "      <td>0.000000</td>\n",
       "      <td>0.000000</td>\n",
       "      <td>0.000000</td>\n",
       "      <td>1.000000</td>\n",
       "      <td>1.000000</td>\n",
       "      <td>0.000000</td>\n",
       "      <td>0.000000</td>\n",
       "    </tr>\n",
       "    <tr>\n",
       "      <th>25%</th>\n",
       "      <td>0.001723</td>\n",
       "      <td>4.000000</td>\n",
       "      <td>2.000000</td>\n",
       "      <td>5.100000e+02</td>\n",
       "      <td>1.780000e+02</td>\n",
       "      <td>2.557576e+01</td>\n",
       "      <td>31.000000</td>\n",
       "      <td>29.00000</td>\n",
       "      <td>9.029087e+03</td>\n",
       "      <td>1.919402e+03</td>\n",
       "      <td>...</td>\n",
       "      <td>1.000000</td>\n",
       "      <td>1.000000</td>\n",
       "      <td>1.000000</td>\n",
       "      <td>0.000000</td>\n",
       "      <td>0.000000</td>\n",
       "      <td>0.000000</td>\n",
       "      <td>1.000000</td>\n",
       "      <td>1.000000</td>\n",
       "      <td>0.000000</td>\n",
       "      <td>0.000000</td>\n",
       "    </tr>\n",
       "    <tr>\n",
       "      <th>50%</th>\n",
       "      <td>0.328957</td>\n",
       "      <td>10.000000</td>\n",
       "      <td>8.000000</td>\n",
       "      <td>9.220000e+02</td>\n",
       "      <td>3.540000e+02</td>\n",
       "      <td>8.185405e+01</td>\n",
       "      <td>62.000000</td>\n",
       "      <td>29.00000</td>\n",
       "      <td>6.873062e+04</td>\n",
       "      <td>6.931899e+03</td>\n",
       "      <td>...</td>\n",
       "      <td>1.000000</td>\n",
       "      <td>1.000000</td>\n",
       "      <td>2.000000</td>\n",
       "      <td>0.000000</td>\n",
       "      <td>0.000000</td>\n",
       "      <td>0.000000</td>\n",
       "      <td>2.000000</td>\n",
       "      <td>3.000000</td>\n",
       "      <td>0.000000</td>\n",
       "      <td>0.000000</td>\n",
       "    </tr>\n",
       "    <tr>\n",
       "      <th>75%</th>\n",
       "      <td>0.956087</td>\n",
       "      <td>20.000000</td>\n",
       "      <td>18.000000</td>\n",
       "      <td>2.456000e+03</td>\n",
       "      <td>2.478000e+03</td>\n",
       "      <td>4.002287e+03</td>\n",
       "      <td>254.000000</td>\n",
       "      <td>252.00000</td>\n",
       "      <td>1.129970e+06</td>\n",
       "      <td>4.121056e+05</td>\n",
       "      <td>...</td>\n",
       "      <td>2.000000</td>\n",
       "      <td>1.000000</td>\n",
       "      <td>4.000000</td>\n",
       "      <td>0.000000</td>\n",
       "      <td>0.000000</td>\n",
       "      <td>0.000000</td>\n",
       "      <td>4.000000</td>\n",
       "      <td>6.000000</td>\n",
       "      <td>0.000000</td>\n",
       "      <td>1.000000</td>\n",
       "    </tr>\n",
       "    <tr>\n",
       "      <th>max</th>\n",
       "      <td>59.999989</td>\n",
       "      <td>10646.000000</td>\n",
       "      <td>11018.000000</td>\n",
       "      <td>1.435577e+07</td>\n",
       "      <td>1.465753e+07</td>\n",
       "      <td>1.000000e+06</td>\n",
       "      <td>255.000000</td>\n",
       "      <td>254.00000</td>\n",
       "      <td>5.988000e+09</td>\n",
       "      <td>2.242273e+07</td>\n",
       "      <td>...</td>\n",
       "      <td>59.000000</td>\n",
       "      <td>46.000000</td>\n",
       "      <td>65.000000</td>\n",
       "      <td>4.000000</td>\n",
       "      <td>4.000000</td>\n",
       "      <td>30.000000</td>\n",
       "      <td>60.000000</td>\n",
       "      <td>62.000000</td>\n",
       "      <td>1.000000</td>\n",
       "      <td>1.000000</td>\n",
       "    </tr>\n",
       "  </tbody>\n",
       "</table>\n",
       "<p>8 rows × 40 columns</p>\n",
       "</div>"
      ],
      "text/plain": [
       "                 dur          spkts          dpkts        sbytes  \\\n",
       "count  162745.000000  162745.000000  162745.000000  1.627450e+05   \n",
       "mean        1.252714      28.609475      28.511579  1.291327e+04   \n",
       "std         5.093951     168.900118     137.871311  2.169121e+05   \n",
       "min         0.000000       1.000000       0.000000  2.400000e+01   \n",
       "25%         0.001723       4.000000       2.000000  5.100000e+02   \n",
       "50%         0.328957      10.000000       8.000000  9.220000e+02   \n",
       "75%         0.956087      20.000000      18.000000  2.456000e+03   \n",
       "max        59.999989   10646.000000   11018.000000  1.435577e+07   \n",
       "\n",
       "             dbytes          rate           sttl          dttl         sload  \\\n",
       "count  1.627450e+05  1.627450e+05  162745.000000  162745.00000  1.627450e+05   \n",
       "mean   2.229745e+04  3.880025e+04     146.598611     125.76245  4.864382e+07   \n",
       "std    1.807485e+05  1.159475e+05     107.455744     116.70385  2.059415e+08   \n",
       "min    0.000000e+00  0.000000e+00       0.000000       0.00000  0.000000e+00   \n",
       "25%    1.780000e+02  2.557576e+01      31.000000      29.00000  9.029087e+03   \n",
       "50%    3.540000e+02  8.185405e+01      62.000000      29.00000  6.873062e+04   \n",
       "75%    2.478000e+03  4.002287e+03     254.000000     252.00000  1.129970e+06   \n",
       "max    1.465753e+07  1.000000e+06     255.000000     254.00000  5.988000e+09   \n",
       "\n",
       "              dload  ...  ct_src_dport_ltm  ct_dst_sport_ltm  ct_dst_src_ltm  \\\n",
       "count  1.627450e+05  ...     162745.000000     162745.000000   162745.000000   \n",
       "mean   1.038744e+06  ...          2.055854          1.465870        3.964398   \n",
       "std    2.968526e+06  ...          3.544085          2.221034        6.312773   \n",
       "min    0.000000e+00  ...          1.000000          1.000000        1.000000   \n",
       "25%    1.919402e+03  ...          1.000000          1.000000        1.000000   \n",
       "50%    6.931899e+03  ...          1.000000          1.000000        2.000000   \n",
       "75%    4.121056e+05  ...          2.000000          1.000000        4.000000   \n",
       "max    2.242273e+07  ...         59.000000         46.000000       65.000000   \n",
       "\n",
       "        is_ftp_login     ct_ftp_cmd  ct_flw_http_mthd     ct_src_ltm  \\\n",
       "count  162745.000000  162745.000000     162745.000000  162745.000000   \n",
       "mean        0.014698       0.014729          0.173922       3.896998   \n",
       "std         0.122115       0.122388          0.572048       4.953769   \n",
       "min         0.000000       0.000000          0.000000       1.000000   \n",
       "25%         0.000000       0.000000          0.000000       1.000000   \n",
       "50%         0.000000       0.000000          0.000000       2.000000   \n",
       "75%         0.000000       0.000000          0.000000       4.000000   \n",
       "max         4.000000       4.000000         30.000000      60.000000   \n",
       "\n",
       "          ct_srv_dst  is_sm_ips_ports          label  \n",
       "count  162745.000000    162745.000000  162745.000000  \n",
       "mean        5.045476         0.003988       0.473274  \n",
       "std         6.451811         0.063023       0.499287  \n",
       "min         1.000000         0.000000       0.000000  \n",
       "25%         1.000000         0.000000       0.000000  \n",
       "50%         3.000000         0.000000       0.000000  \n",
       "75%         6.000000         0.000000       1.000000  \n",
       "max        62.000000         1.000000       1.000000  \n",
       "\n",
       "[8 rows x 40 columns]"
      ]
     },
     "execution_count": 56,
     "metadata": {},
     "output_type": "execute_result"
    }
   ],
   "source": [
    "df.describe()"
   ]
  },
  {
   "cell_type": "markdown",
   "metadata": {
    "id": "PJciV9nJqSqv"
   },
   "source": [
    "karena ada beberapa kolom didata kita yang berupa string, maka kita akan mengubahnya ke kategorikal"
   ]
  },
  {
   "cell_type": "code",
   "execution_count": 57,
   "metadata": {
    "id": "_EEcWR0zpRNc"
   },
   "outputs": [],
   "source": [
    "# beberapa kolom harus diubah dari string menjadi kategoriacal\n",
    "for col in ['proto', 'service', 'state']:\n",
    "    df[col] = df[col].astype('category').cat.codes\n",
    "    df[col] = df[col].astype('category').cat.codes\n",
    "\n",
    "df['attack_cat'] = df['attack_cat'].astype('category') # simpan info nomikal untuk info serangan"
   ]
  },
  {
   "cell_type": "code",
   "execution_count": 58,
   "metadata": {
    "colab": {
     "base_uri": "https://localhost:8080/"
    },
    "id": "BNrGUWserIbX",
    "outputId": "6a2f4620-480c-4a80-e2ba-600a49b0beb8"
   },
   "outputs": [
    {
     "name": "stdout",
     "output_type": "stream",
     "text": [
      "Exploits          27434\n",
      "Fuzzers           20960\n",
      "Reconnaissance     9991\n",
      "Generic            7599\n",
      "DoS                5500\n",
      "Analysis           2032\n",
      "Backdoor           1880\n",
      "Shellcode          1456\n",
      "Worms               171\n",
      "Normal                0\n",
      "Name: attack_cat, dtype: int64\n"
     ]
    }
   ],
   "source": [
    "# eksplorasi perbedaan tipe serangan\n",
    "print(df[df['label']==1]\n",
    "     ['attack_cat']\n",
    "     .value_counts()\n",
    ")"
   ]
  },
  {
   "cell_type": "code",
   "execution_count": 59,
   "metadata": {
    "colab": {
     "base_uri": "https://localhost:8080/",
     "height": 423
    },
    "id": "OwlPpDN5tH7_",
    "outputId": "92d50f1f-0670-48cf-d140-02be0b73a9e9"
   },
   "outputs": [
    {
     "data": {
      "text/plain": [
       "<AxesSubplot:ylabel='attack_cat'>"
      ]
     },
     "execution_count": 59,
     "metadata": {},
     "output_type": "execute_result"
    },
    {
     "data": {
      "image/png": "[encoded data removed]",
      "text/plain": [
       "<Figure size 432x288 with 1 Axes>"
      ]
     },
     "metadata": {},
     "output_type": "display_data"
    }
   ],
   "source": [
    "# plot the pie plot of attacks\n",
    "df[df['label']==1]['attack_cat'].value_counts()\\\n",
    "    .plot\\\n",
    "    .pie(autopct='%1.1f%%',wedgeprops={'linewidth': 2, 'edgecolor': 'white', 'width': 0.50})"
   ]
  },
  {
   "cell_type": "code",
   "execution_count": 60,
   "metadata": {
    "colab": {
     "base_uri": "https://localhost:8080/"
    },
    "id": "easWIymw2j8H",
    "outputId": "572da0b3-a2da-4b34-dcc4-2230a2aeba57"
   },
   "outputs": [
    {
     "name": "stdout",
     "output_type": "stream",
     "text": [
      "             dur  spkts  dpkts  sbytes  dbytes           rate  sttl  dttl  \\\n",
      "0       0.000011      2      0     496       0   90909.090200   254     0   \n",
      "1       0.000008      2      0    1762       0  125000.000300   254     0   \n",
      "2       0.000005      2      0    1068       0  200000.005100   254     0   \n",
      "3       0.000006      2      0     900       0  166666.660800   254     0   \n",
      "4       0.000010      2      0    2126       0  100000.002500   254     0   \n",
      "...          ...    ...    ...     ...     ...            ...   ...   ...   \n",
      "257599  1.914309     74     30   69997    2132      53.805315    62   252   \n",
      "257609  3.719110     66    340    3086  426483     108.897021    62   252   \n",
      "257631  0.996503     20     30     942   16684      49.171955    62   252   \n",
      "257637  1.557125     28     22   12601    1954      31.468251    62   252   \n",
      "257669  0.505762     10      8     620     354      33.612649   254   252   \n",
      "\n",
      "               sload          dload  ...  attack_cat_Analysis  \\\n",
      "0       1.803636e+08       0.000000  ...                    0   \n",
      "1       8.810000e+08       0.000000  ...                    0   \n",
      "2       8.544000e+08       0.000000  ...                    0   \n",
      "3       6.000000e+08       0.000000  ...                    0   \n",
      "4       8.504000e+08       0.000000  ...                    0   \n",
      "...              ...            ...  ...                  ...   \n",
      "257599  2.885720e+05    8613.029297  ...                    0   \n",
      "257609  6.539199e+03  914689.812500  ...                    0   \n",
      "257631  7.185126e+03  129476.781300  ...                    0   \n",
      "257637  6.242787e+04    9586.899414  ...                    0   \n",
      "257669  8.826286e+03    4903.492188  ...                    0   \n",
      "\n",
      "        attack_cat_Backdoor  attack_cat_DoS  attack_cat_Exploits  \\\n",
      "0                         0               0                    0   \n",
      "1                         0               0                    0   \n",
      "2                         0               0                    0   \n",
      "3                         0               0                    0   \n",
      "4                         0               0                    0   \n",
      "...                     ...             ...                  ...   \n",
      "257599                    0               0                    1   \n",
      "257609                    0               0                    1   \n",
      "257631                    0               0                    1   \n",
      "257637                    0               0                    1   \n",
      "257669                    0               0                    0   \n",
      "\n",
      "        attack_cat_Fuzzers  attack_cat_Generic  attack_cat_Normal  \\\n",
      "0                        0                   0                  1   \n",
      "1                        0                   0                  1   \n",
      "2                        0                   0                  1   \n",
      "3                        0                   0                  1   \n",
      "4                        0                   0                  1   \n",
      "...                    ...                 ...                ...   \n",
      "257599                   0                   0                  0   \n",
      "257609                   0                   0                  0   \n",
      "257631                   0                   0                  0   \n",
      "257637                   0                   0                  0   \n",
      "257669                   0                   0                  0   \n",
      "\n",
      "        attack_cat_Reconnaissance  attack_cat_Shellcode  attack_cat_Worms  \n",
      "0                               0                     0                 0  \n",
      "1                               0                     0                 0  \n",
      "2                               0                     0                 0  \n",
      "3                               0                     0                 0  \n",
      "4                               0                     0                 0  \n",
      "...                           ...                   ...               ...  \n",
      "257599                          0                     0                 0  \n",
      "257609                          0                     0                 0  \n",
      "257631                          0                     0                 0  \n",
      "257637                          0                     0                 0  \n",
      "257669                          0                     1                 0  \n",
      "\n",
      "[162745 rows x 207 columns]\n"
     ]
    }
   ],
   "source": [
    "# Melakukan one-hot encoding\n",
    "df = pd.get_dummies(df, columns=['proto', 'service', 'state', 'attack_cat'])\n",
    "\n",
    "print(df)"
   ]
  },
  {
   "cell_type": "code",
   "execution_count": 61,
   "metadata": {
    "colab": {
     "base_uri": "https://localhost:8080/"
    },
    "id": "iw9UMKog2uFw",
    "outputId": "939429b1-4595-4bec-d951-29a4b2f773cc"
   },
   "outputs": [
    {
     "name": "stdout",
     "output_type": "stream",
     "text": [
      "attack_cat_Normal            1.000000\n",
      "label                        1.000000\n",
      "sttl                         0.525025\n",
      "attack_cat_Exploits          0.475022\n",
      "attack_cat_Fuzzers           0.405617\n",
      "ct_state_ttl                 0.395124\n",
      "dttl                         0.369919\n",
      "state_5                      0.319034\n",
      "dload                        0.318790\n",
      "state_2                      0.315444\n",
      "attack_cat_Reconnaissance    0.269801\n",
      "attack_cat_Generic           0.233477\n",
      "ct_dst_sport_ltm             0.204260\n",
      "ackdat                       0.203185\n",
      "rate                         0.199319\n",
      "attack_cat_DoS               0.197301\n",
      "dmean                        0.182432\n",
      "tcprtt                       0.174355\n",
      "service_5                    0.161542\n",
      "proto_120                    0.153777\n",
      "Name: label, dtype: float64\n"
     ]
    }
   ],
   "source": [
    "# Membuat peringkat korelasi\n",
    "correlation_matrix = df.corr(method='pearson')\n",
    "df_correlation = correlation_matrix['label'].abs().sort_values(ascending=False)\n",
    "\n",
    "print(df_correlation.head(20))"
   ]
  },
  {
   "cell_type": "code",
   "execution_count": 62,
   "metadata": {
    "colab": {
     "base_uri": "https://localhost:8080/"
    },
    "id": "XXFWWcfpNOI4",
    "outputId": "bc3d3970-4b25-4732-c41d-ed92508ac86d"
   },
   "outputs": [
    {
     "name": "stdout",
     "output_type": "stream",
     "text": [
      "        attack_cat_Normal  label  sttl  attack_cat_Exploits  \\\n",
      "0                       1      0   254                    0   \n",
      "1                       1      0   254                    0   \n",
      "2                       1      0   254                    0   \n",
      "3                       1      0   254                    0   \n",
      "4                       1      0   254                    0   \n",
      "...                   ...    ...   ...                  ...   \n",
      "257599                  0      1    62                    1   \n",
      "257609                  0      1    62                    1   \n",
      "257631                  0      1    62                    1   \n",
      "257637                  0      1    62                    1   \n",
      "257669                  0      1   254                    0   \n",
      "\n",
      "        attack_cat_Fuzzers  ct_state_ttl  dttl  state_5          dload  \\\n",
      "0                        0             2     0        1       0.000000   \n",
      "1                        0             2     0        1       0.000000   \n",
      "2                        0             2     0        1       0.000000   \n",
      "3                        0             2     0        1       0.000000   \n",
      "4                        0             2     0        1       0.000000   \n",
      "...                    ...           ...   ...      ...            ...   \n",
      "257599                   0             1   252        0    8613.029297   \n",
      "257609                   0             1   252        0  914689.812500   \n",
      "257631                   0             1   252        0  129476.781300   \n",
      "257637                   0             1   252        0    9586.899414   \n",
      "257669                   0             1   252        0    4903.492188   \n",
      "\n",
      "        state_2  \n",
      "0             0  \n",
      "1             0  \n",
      "2             0  \n",
      "3             0  \n",
      "4             0  \n",
      "...         ...  \n",
      "257599        0  \n",
      "257609        0  \n",
      "257631        0  \n",
      "257637        0  \n",
      "257669        0  \n",
      "\n",
      "[162745 rows x 10 columns]\n"
     ]
    }
   ],
   "source": [
    "# Membuat peringkat korelasi\n",
    "correlation_matrix = df.corr(method='pearson')\n",
    "df_correlation = correlation_matrix['label'].abs().sort_values(ascending=False)\n",
    "\n",
    "# Memilih variabel dengan nilai korelasi lebih dari 0.3\n",
    "selected_variables = df_correlation[df_correlation > 0.3].index.tolist()\n",
    "\n",
    "# Membuat DataFrame baru dengan variabel yang dipilih\n",
    "df1 = df[selected_variables]\n",
    "\n",
    "# Menampilkan DataFrame baru\n",
    "print(df1)"
   ]
  },
  {
   "cell_type": "code",
   "execution_count": 63,
   "metadata": {
    "colab": {
     "base_uri": "https://localhost:8080/"
    },
    "id": "6uAUOhdHSxtr",
    "outputId": "6176bcef-3c9a-4930-ee17-5fe5393c29c8"
   },
   "outputs": [
    {
     "data": {
      "text/plain": [
       "attack_cat_Normal      0\n",
       "label                  0\n",
       "sttl                   0\n",
       "attack_cat_Exploits    0\n",
       "attack_cat_Fuzzers     0\n",
       "ct_state_ttl           0\n",
       "dttl                   0\n",
       "state_5                0\n",
       "dload                  0\n",
       "state_2                0\n",
       "dtype: int64"
      ]
     },
     "execution_count": 63,
     "metadata": {},
     "output_type": "execute_result"
    }
   ],
   "source": [
    "df1.isnull().sum()"
   ]
  },
  {
   "cell_type": "code",
   "execution_count": 64,
   "metadata": {
    "colab": {
     "base_uri": "https://localhost:8080/"
    },
    "id": "5OTMHJ3XMJAR",
    "outputId": "017527da-d417-4ee7-e3d1-c8aa9c924625"
   },
   "outputs": [
    {
     "name": "stdout",
     "output_type": "stream",
     "text": [
      "        attack_cat_Normal  label  sttl  attack_cat_Exploits  \\\n",
      "0                       1      0   254                    0   \n",
      "1                       1      0   254                    0   \n",
      "2                       1      0   254                    0   \n",
      "3                       1      0   254                    0   \n",
      "4                       1      0   254                    0   \n",
      "...                   ...    ...   ...                  ...   \n",
      "257599                  0      1    62                    1   \n",
      "257609                  0      1    62                    1   \n",
      "257631                  0      1    62                    1   \n",
      "257637                  0      1    62                    1   \n",
      "257669                  0      1   254                    0   \n",
      "\n",
      "        attack_cat_Fuzzers  ct_state_ttl  dttl  state_5          dload  \\\n",
      "0                        0             2     0        1       0.000000   \n",
      "1                        0             2     0        1       0.000000   \n",
      "2                        0             2     0        1       0.000000   \n",
      "3                        0             2     0        1       0.000000   \n",
      "4                        0             2     0        1       0.000000   \n",
      "...                    ...           ...   ...      ...            ...   \n",
      "257599                   0             1   252        0    8613.029297   \n",
      "257609                   0             1   252        0  914689.812500   \n",
      "257631                   0             1   252        0  129476.781300   \n",
      "257637                   0             1   252        0    9586.899414   \n",
      "257669                   0             1   252        0    4903.492188   \n",
      "\n",
      "        state_2  \n",
      "0             0  \n",
      "1             0  \n",
      "2             0  \n",
      "3             0  \n",
      "4             0  \n",
      "...         ...  \n",
      "257599        0  \n",
      "257609        0  \n",
      "257631        0  \n",
      "257637        0  \n",
      "257669        0  \n",
      "\n",
      "[162745 rows x 10 columns]\n"
     ]
    },
    {
     "name": "stderr",
     "output_type": "stream",
     "text": [
      "<ipython-input-64-211fedc49aa6>:2: SettingWithCopyWarning: \n",
      "A value is trying to be set on a copy of a slice from a DataFrame\n",
      "\n",
      "See the caveats in the documentation: https://pandas.pydata.org/pandas-docs/stable/user_guide/indexing.html#returning-a-view-versus-a-copy\n",
      "  df1.dropna(inplace=True)\n"
     ]
    }
   ],
   "source": [
    "# Menghapus nilai yang hilang dari DataFrame asli\n",
    "df1.dropna(inplace=True)\n",
    "\n",
    "# Tampilkan DataFrame setelah menghapus nilai yang hilang\n",
    "print(df1)"
   ]
  },
  {
   "cell_type": "code",
   "execution_count": 65,
   "metadata": {
    "colab": {
     "base_uri": "https://localhost:8080/"
    },
    "id": "v-G5QSboMV5o",
    "outputId": "e46c01d0-4e18-4cb2-ded7-c832c11e48bc"
   },
   "outputs": [
    {
     "data": {
      "text/plain": [
       "45770"
      ]
     },
     "execution_count": 65,
     "metadata": {},
     "output_type": "execute_result"
    }
   ],
   "source": [
    "df1.duplicated().sum()"
   ]
  },
  {
   "cell_type": "code",
   "execution_count": 66,
   "metadata": {
    "colab": {
     "base_uri": "https://localhost:8080/"
    },
    "id": "9-XWb4wFMmKH",
    "outputId": "c9c1b340-7f9a-426e-bed3-bfe64d0232ee"
   },
   "outputs": [
    {
     "name": "stderr",
     "output_type": "stream",
     "text": [
      "<ipython-input-66-d6daa793f523>:2: SettingWithCopyWarning: \n",
      "A value is trying to be set on a copy of a slice from a DataFrame\n",
      "\n",
      "See the caveats in the documentation: https://pandas.pydata.org/pandas-docs/stable/user_guide/indexing.html#returning-a-view-versus-a-copy\n",
      "  df1.drop_duplicates(inplace=True)\n"
     ]
    }
   ],
   "source": [
    "# Menghapus data duplikat dengan parameter inplace\n",
    "df1.drop_duplicates(inplace=True)"
   ]
  },
  {
   "cell_type": "code",
   "execution_count": 67,
   "metadata": {
    "colab": {
     "base_uri": "https://localhost:8080/"
    },
    "id": "66ciJHPDMpIr",
    "outputId": "ac3e7f2c-ff6d-4119-da96-cd1082b99c0a"
   },
   "outputs": [
    {
     "data": {
      "text/plain": [
       "0"
      ]
     },
     "execution_count": 67,
     "metadata": {},
     "output_type": "execute_result"
    }
   ],
   "source": [
    "df1.duplicated().sum()"
   ]
  },
  {
   "cell_type": "code",
   "execution_count": 68,
   "metadata": {
    "colab": {
     "base_uri": "https://localhost:8080/",
     "height": 819
    },
    "id": "50Hl1xiDtsl0",
    "outputId": "0541d417-03a5-4180-f4c1-1517b46403a3"
   },
   "outputs": [
    {
     "data": {
      "image/png": "[encoded data removed]",
      "text/plain": [
       "<Figure size 720x576 with 2 Axes>"
      ]
     },
     "metadata": {
      "needs_background": "light"
     },
     "output_type": "display_data"
    }
   ],
   "source": [
    "# Hitung matriks korelasi dengan metode Pearson\n",
    "correlation_matrix = df1.corr(method='pearson')\n",
    "\n",
    "# Buat heatmap untuk memvisualisasikan korelasi\n",
    "plt.figure(figsize=(10, 8))\n",
    "sns.heatmap(correlation_matrix, annot=True, cmap='coolwarm', fmt=\".2f\")\n",
    "plt.title(\"Heatmap Korelasi Pearson antar Variabel\")\n",
    "plt.show()"
   ]
  },
  {
   "cell_type": "code",
   "execution_count": 69,
   "metadata": {
    "colab": {
     "base_uri": "https://localhost:8080/"
    },
    "id": "yNUNhztTNkc0",
    "outputId": "f50e1240-1151-4842-c2cb-2f8d4eacb935"
   },
   "outputs": [
    {
     "data": {
      "text/plain": [
       "attack_cat_Normal        uint8\n",
       "label                    int64\n",
       "sttl                     int64\n",
       "attack_cat_Exploits      uint8\n",
       "attack_cat_Fuzzers       uint8\n",
       "ct_state_ttl             int64\n",
       "dttl                     int64\n",
       "state_5                  uint8\n",
       "dload                  float64\n",
       "state_2                  uint8\n",
       "dtype: object"
      ]
     },
     "execution_count": 69,
     "metadata": {},
     "output_type": "execute_result"
    }
   ],
   "source": [
    "df1.dtypes"
   ]
  },
  {
   "cell_type": "code",
   "execution_count": 70,
   "metadata": {
    "colab": {
     "base_uri": "https://localhost:8080/"
    },
    "id": "aUskF-dY5s4y",
    "outputId": "8e07c803-c09c-4635-9669-00a3b8c67e10"
   },
   "outputs": [
    {
     "name": "stdout",
     "output_type": "stream",
     "text": [
      "        attack_cat_Normal  label      sttl  attack_cat_Exploits  \\\n",
      "0                0.900001      0  1.150919            -0.523279   \n",
      "8                0.900001      0 -0.672178            -0.523279   \n",
      "29               0.900001      0  1.150919            -0.523279   \n",
      "31               0.900001      0  1.150919            -0.523279   \n",
      "32               0.900001      0  1.150919            -0.523279   \n",
      "...                   ...    ...       ...                  ...   \n",
      "257599                NaN      1       NaN                  NaN   \n",
      "257609                NaN      1       NaN                  NaN   \n",
      "257631                NaN      1       NaN                  NaN   \n",
      "257637                NaN      1       NaN                  NaN   \n",
      "257669                NaN      1       NaN                  NaN   \n",
      "\n",
      "        attack_cat_Fuzzers  ct_state_ttl      dttl    state_5     dload  \\\n",
      "0                -0.372094      2.129135 -1.587794  74.627328 -0.388858   \n",
      "8                -0.372094      0.505893  0.759979  -0.013400 -0.387090   \n",
      "29               -0.372094      0.505893  0.759979  -0.013400 -0.388238   \n",
      "31               -0.372094      0.505893  0.759979  -0.013400 -0.388439   \n",
      "32               -0.372094      0.505893  0.759979  -0.013400 -0.388039   \n",
      "...                    ...           ...       ...        ...       ...   \n",
      "257599                 NaN           NaN       NaN        NaN       NaN   \n",
      "257609                 NaN           NaN       NaN        NaN       NaN   \n",
      "257631                 NaN           NaN       NaN        NaN       NaN   \n",
      "257637                 NaN           NaN       NaN        NaN       NaN   \n",
      "257669                 NaN           NaN       NaN        NaN       NaN   \n",
      "\n",
      "         state_2  \n",
      "0      -0.270126  \n",
      "8      -0.270126  \n",
      "29     -0.270126  \n",
      "31     -0.270126  \n",
      "32     -0.270126  \n",
      "...          ...  \n",
      "257599       NaN  \n",
      "257609       NaN  \n",
      "257631       NaN  \n",
      "257637       NaN  \n",
      "257669       NaN  \n",
      "\n",
      "[116975 rows x 10 columns]\n"
     ]
    },
    {
     "name": "stderr",
     "output_type": "stream",
     "text": [
      "C:\\ProgramData\\Anaconda3\\lib\\site-packages\\pandas\\core\\frame.py:3065: SettingWithCopyWarning: \n",
      "A value is trying to be set on a copy of a slice from a DataFrame.\n",
      "Try using .loc[row_indexer,col_indexer] = value instead\n",
      "\n",
      "See the caveats in the documentation: https://pandas.pydata.org/pandas-docs/stable/user_guide/indexing.html#returning-a-view-versus-a-copy\n",
      "  self[k1] = value[k2]\n"
     ]
    }
   ],
   "source": [
    "from sklearn.preprocessing import StandardScaler\n",
    "\n",
    "# Definisi fitur yang dipilih\n",
    "selected_features = ['attack_cat_Normal', 'sttl', 'attack_cat_Exploits', 'attack_cat_Fuzzers', 'ct_state_ttl', 'dttl', 'state_5', 'dload', 'state_2']\n",
    "\n",
    "# Pilih hanya fitur yang diinginkan dari DataFrame\n",
    "data_selected = df1[selected_features]\n",
    "\n",
    "# Initialize the StandardScaler\n",
    "scaler = StandardScaler()\n",
    "\n",
    "# Standardize the selected features\n",
    "data_standardized = scaler.fit_transform(data_selected)\n",
    "\n",
    "# Buat DataFrame baru dengan nilai yang telah distandarisasi\n",
    "data_standardized_df = pd.DataFrame(data_standardized, columns=selected_features)\n",
    "\n",
    "# Ganti nilai asli dengan nilai yang telah distandarisasi\n",
    "df1[selected_features] = data_standardized_df\n",
    "\n",
    "# Tampilkan DataFrame yang sudah dimodifikasi\n",
    "print(df1)"
   ]
  },
  {
   "cell_type": "code",
   "execution_count": 71,
   "metadata": {
    "colab": {
     "base_uri": "https://localhost:8080/"
    },
    "id": "I_NMYBOJPafH",
    "outputId": "54de87e2-accf-4646-d922-0a650229b109"
   },
   "outputs": [
    {
     "data": {
      "text/plain": [
       "attack_cat_Normal      51066\n",
       "label                      0\n",
       "sttl                   51066\n",
       "attack_cat_Exploits    51066\n",
       "attack_cat_Fuzzers     51066\n",
       "ct_state_ttl           51066\n",
       "dttl                   51066\n",
       "state_5                51066\n",
       "dload                  51066\n",
       "state_2                51066\n",
       "dtype: int64"
      ]
     },
     "execution_count": 71,
     "metadata": {},
     "output_type": "execute_result"
    }
   ],
   "source": [
    "df1.isnull().sum()"
   ]
  },
  {
   "cell_type": "code",
   "execution_count": 72,
   "metadata": {
    "colab": {
     "base_uri": "https://localhost:8080/"
    },
    "id": "2QoVjhiIPnRS",
    "outputId": "e3a6d901-852a-4e52-bbd1-647ac9ed070e"
   },
   "outputs": [
    {
     "name": "stdout",
     "output_type": "stream",
     "text": [
      "        attack_cat_Normal  label      sttl  attack_cat_Exploits  \\\n",
      "0                0.900001      0  1.150919            -0.523279   \n",
      "8                0.900001      0 -0.672178            -0.523279   \n",
      "29               0.900001      0  1.150919            -0.523279   \n",
      "31               0.900001      0  1.150919            -0.523279   \n",
      "32               0.900001      0  1.150919            -0.523279   \n",
      "...                   ...    ...       ...                  ...   \n",
      "116969          -1.111110      0 -0.672178            -0.523279   \n",
      "116970          -1.111110      0 -0.672178             1.911025   \n",
      "116971          -1.111110      0 -0.672178             1.911025   \n",
      "116972          -1.111110      0 -0.672178             1.911025   \n",
      "116973          -1.111110      0 -0.672178             1.911025   \n",
      "\n",
      "        attack_cat_Fuzzers  ct_state_ttl      dttl    state_5     dload  \\\n",
      "0                -0.372094      2.129135 -1.587794  74.627328 -0.388858   \n",
      "8                -0.372094      0.505893  0.759979  -0.013400 -0.387090   \n",
      "29               -0.372094      0.505893  0.759979  -0.013400 -0.388238   \n",
      "31               -0.372094      0.505893  0.759979  -0.013400 -0.388439   \n",
      "32               -0.372094      0.505893  0.759979  -0.013400 -0.388039   \n",
      "...                    ...           ...       ...        ...       ...   \n",
      "116969           -0.372094      0.505893  0.759979  -0.013400 -0.385284   \n",
      "116970           -0.372094      0.505893  0.759979  -0.013400 -0.386295   \n",
      "116971           -0.372094      0.505893  0.759979  -0.013400 -0.116672   \n",
      "116972           -0.372094      0.505893  0.759979  -0.013400 -0.350329   \n",
      "116973           -0.372094      0.505893  0.759979  -0.013400 -0.386005   \n",
      "\n",
      "         state_2  \n",
      "0      -0.270126  \n",
      "8      -0.270126  \n",
      "29     -0.270126  \n",
      "31     -0.270126  \n",
      "32     -0.270126  \n",
      "...          ...  \n",
      "116969 -0.270126  \n",
      "116970 -0.270126  \n",
      "116971 -0.270126  \n",
      "116972 -0.270126  \n",
      "116973 -0.270126  \n",
      "\n",
      "[65909 rows x 10 columns]\n"
     ]
    },
    {
     "name": "stderr",
     "output_type": "stream",
     "text": [
      "<ipython-input-72-211fedc49aa6>:2: SettingWithCopyWarning: \n",
      "A value is trying to be set on a copy of a slice from a DataFrame\n",
      "\n",
      "See the caveats in the documentation: https://pandas.pydata.org/pandas-docs/stable/user_guide/indexing.html#returning-a-view-versus-a-copy\n",
      "  df1.dropna(inplace=True)\n"
     ]
    }
   ],
   "source": [
    "# Menghapus nilai yang hilang dari DataFrame asli\n",
    "df1.dropna(inplace=True)\n",
    "\n",
    "# Tampilkan DataFrame setelah menghapus nilai yang hilang\n",
    "print(df1)"
   ]
  },
  {
   "cell_type": "code",
   "execution_count": 73,
   "metadata": {
    "colab": {
     "base_uri": "https://localhost:8080/"
    },
    "id": "nuOzzjg0PrxZ",
    "outputId": "fc2b80bb-a3a0-40b5-978a-23365d6ba47f"
   },
   "outputs": [
    {
     "data": {
      "text/plain": [
       "0"
      ]
     },
     "execution_count": 73,
     "metadata": {},
     "output_type": "execute_result"
    }
   ],
   "source": [
    "df1.duplicated().sum()"
   ]
  },
  {
   "cell_type": "code",
   "execution_count": 74,
   "metadata": {
    "colab": {
     "base_uri": "https://localhost:8080/"
    },
    "id": "s4xuMrzNP_sq",
    "outputId": "0e65de84-aff9-49e0-8640-ca54137f5ef9"
   },
   "outputs": [
    {
     "name": "stderr",
     "output_type": "stream",
     "text": [
      "<ipython-input-74-0ef3c7a6575b>:2: SettingWithCopyWarning: \n",
      "A value is trying to be set on a copy of a slice from a DataFrame\n",
      "\n",
      "See the caveats in the documentation: https://pandas.pydata.org/pandas-docs/stable/user_guide/indexing.html#returning-a-view-versus-a-copy\n",
      "  df1.drop_duplicates(inplace=True)\n"
     ]
    },
    {
     "name": "stdout",
     "output_type": "stream",
     "text": [
      "0\n"
     ]
    }
   ],
   "source": [
    "# Menghapus data duplikat dengan parameter inplace\n",
    "df1.drop_duplicates(inplace=True)\n",
    "\n",
    "# Menampilkan DataFrame setelah menghapus duplikat\n",
    "print(df1.duplicated().sum())"
   ]
  },
  {
   "cell_type": "code",
   "execution_count": 75,
   "metadata": {
    "colab": {
     "base_uri": "https://localhost:8080/"
    },
    "id": "-SlsoCyQNDO7",
    "outputId": "fa0cd68d-6e1c-4f13-9864-e94583a9842b"
   },
   "outputs": [
    {
     "data": {
      "text/plain": [
       "0"
      ]
     },
     "execution_count": 75,
     "metadata": {},
     "output_type": "execute_result"
    }
   ],
   "source": [
    "df1.isnull().sum()\n",
    "df1.duplicated().sum()"
   ]
  },
  {
   "cell_type": "code",
   "execution_count": 76,
   "metadata": {
    "colab": {
     "base_uri": "https://localhost:8080/",
     "height": 410
    },
    "id": "48ycobfh26vQ",
    "outputId": "5d7b2e33-a7af-46b7-9798-ec6ab537c73c"
   },
   "outputs": [
    {
     "data": {
      "image/png": "[encoded data removed]",
      "text/plain": [
       "<Figure size 432x288 with 1 Axes>"
      ]
     },
     "metadata": {
      "needs_background": "light"
     },
     "output_type": "display_data"
    }
   ],
   "source": [
    "# Membuat bar plot untuk variabel target 'label'\n",
    "plt.figure(figsize=(6, 4))\n",
    "sns.countplot(x='label', data=df1)\n",
    "plt.title('Distribusi Kelas pada Variabel Target')\n",
    "plt.show()"
   ]
  },
  {
   "cell_type": "code",
   "execution_count": 77,
   "metadata": {
    "colab": {
     "base_uri": "https://localhost:8080/",
     "height": 1000
    },
    "id": "yIHMO8TnEd4p",
    "outputId": "14b141c9-9ea4-45fb-ece0-4260c834011c"
   },
   "outputs": [
    {
     "name": "stdout",
     "output_type": "stream",
     "text": [
      "Before oversampling:\n",
      "0    51801\n",
      "1    14108\n",
      "Name: label, dtype: int64\n",
      "After oversampling:\n",
      "1    51801\n",
      "0    51801\n",
      "Name: label, dtype: int64\n"
     ]
    },
    {
     "data": {
      "image/png": "[encoded data removed]",
      "text/plain": [
       "<Figure size 432x288 with 1 Axes>"
      ]
     },
     "metadata": {
      "needs_background": "light"
     },
     "output_type": "display_data"
    },
    {
     "name": "stdout",
     "output_type": "stream",
     "text": [
      "Updated DataFrame:\n",
      "        attack_cat_Normal      sttl  attack_cat_Exploits  attack_cat_Fuzzers  \\\n",
      "0                0.900001  1.150919            -0.523279           -0.372094   \n",
      "1                0.900001 -0.672178            -0.523279           -0.372094   \n",
      "2                0.900001  1.150919            -0.523279           -0.372094   \n",
      "3                0.900001  1.150919            -0.523279           -0.372094   \n",
      "4                0.900001  1.150919            -0.523279           -0.372094   \n",
      "...                   ...       ...                  ...                 ...   \n",
      "103597           0.900001 -0.966533            -0.523279           -0.372094   \n",
      "103598           0.900001 -0.966533            -0.523279           -0.372094   \n",
      "103599           0.900001 -0.966533            -0.523279           -0.372094   \n",
      "103600           0.900001 -0.966533            -0.523279           -0.372094   \n",
      "103601           0.900001 -0.966533            -0.523279           -0.372094   \n",
      "\n",
      "        ct_state_ttl      dttl    state_5     dload   state_2  label  \n",
      "0           2.129135 -1.587794  74.627328 -0.388858 -0.270126      0  \n",
      "1           0.505893  0.759979  -0.013400 -0.387090 -0.270126      0  \n",
      "2           0.505893  0.759979  -0.013400 -0.388238 -0.270126      0  \n",
      "3           0.505893  0.759979  -0.013400 -0.388439 -0.270126      0  \n",
      "4           0.505893  0.759979  -0.013400 -0.388039 -0.270126      0  \n",
      "...              ...       ...        ...       ...       ...    ...  \n",
      "103597     -1.117348 -1.317614  -0.013400 -0.385995 -0.270126      1  \n",
      "103598     -1.117348 -1.317614  -0.013400 -0.366125 -0.270126      1  \n",
      "103599     -1.117348 -1.317614  -0.013400  2.735642 -0.270126      1  \n",
      "103600     -1.117348 -1.317614  -0.013400 -0.367938 -0.270126      1  \n",
      "103601     -1.117348 -1.317614  -0.013400 -0.105387 -0.270126      1  \n",
      "\n",
      "[103602 rows x 10 columns]\n"
     ]
    }
   ],
   "source": [
    "from imblearn.over_sampling import RandomOverSampler\n",
    "\n",
    "# Count the number of data for each label category\n",
    "counts_before = df1['label'].value_counts()\n",
    "print('Before oversampling:')\n",
    "print(counts_before)\n",
    "\n",
    "# Perform oversampling\n",
    "oversampler = RandomOverSampler()\n",
    "X_resampled, y_resampled = oversampler.fit_resample(df1.drop(['label'], axis=1), df1['label'])\n",
    "\n",
    "# Sum data after oversampling\n",
    "resampled_counts = pd.Series(y_resampled).value_counts()\n",
    "print('After oversampling:')\n",
    "print(resampled_counts)\n",
    "\n",
    "# Update df1 with oversampled data\n",
    "df1_resampled = pd.concat([X_resampled, pd.Series(y_resampled, name='label')], axis=1)\n",
    "\n",
    "# Create bar chart\n",
    "labels = resampled_counts.index\n",
    "values = resampled_counts.values\n",
    "plt.bar(labels, values)\n",
    "\n",
    "plt.title('Bar Chart label (After Oversampling)')\n",
    "plt.xlabel('label')\n",
    "plt.ylabel('Count')\n",
    "plt.show()\n",
    "\n",
    "# Display the updated DataFrame\n",
    "print('Updated DataFrame:')\n",
    "print(df1_resampled)"
   ]
  },
  {
   "cell_type": "code",
   "execution_count": 78,
   "metadata": {
    "colab": {
     "base_uri": "https://localhost:8080/",
     "height": 410
    },
    "id": "e2B2uenRNUZx",
    "outputId": "0a4a8766-e2e0-492d-8064-3815a467ed8f"
   },
   "outputs": [
    {
     "data": {
      "image/png": "[encoded data removed]",
      "text/plain": [
       "<Figure size 432x288 with 1 Axes>"
      ]
     },
     "metadata": {
      "needs_background": "light"
     },
     "output_type": "display_data"
    }
   ],
   "source": [
    "# Membuat bar plot untuk variabel target 'label'\n",
    "plt.figure(figsize=(6, 4))\n",
    "sns.countplot(x='label', data=df1_resampled)\n",
    "plt.title('Distribusi Kelas pada Variabel Target')\n",
    "plt.show()"
   ]
  },
  {
   "cell_type": "code",
   "execution_count": 79,
   "metadata": {
    "colab": {
     "base_uri": "https://localhost:8080/",
     "height": 393
    },
    "id": "GSqXMTjr0R9h",
    "outputId": "df5b7a12-be33-49e4-e2c6-f70db111f877"
   },
   "outputs": [
    {
     "data": {
      "image/png": "[encoded data removed]",
      "text/plain": [
       "<Figure size 1800x432 with 1 Axes>"
      ]
     },
     "metadata": {
      "needs_background": "light"
     },
     "output_type": "display_data"
    }
   ],
   "source": [
    "# Membuat boxplot menggunakan Seaborn\n",
    "plt.figure(figsize=(25, 6))\n",
    "sns.boxplot(data=df1_resampled)\n",
    "plt.title('Boxplot Distribusi Data Setiap Variabel')\n",
    "plt.show()"
   ]
  },
  {
   "cell_type": "code",
   "execution_count": 80,
   "metadata": {
    "colab": {
     "base_uri": "https://localhost:8080/"
    },
    "id": "6xFrSK251Ncb",
    "outputId": "d5843e6a-f283-44e9-97ed-74beeb061b1d"
   },
   "outputs": [
    {
     "name": "stderr",
     "output_type": "stream",
     "text": [
      "<ipython-input-80-30050678d163>:11: UserWarning: Boolean Series key will be reindexed to match DataFrame index.\n",
      "  df1_resampled = df1_resampled[(df1_resampled[col] >= lower_bound) & (df1[col] <= upper_bound)]\n",
      "<ipython-input-80-30050678d163>:11: UserWarning: Boolean Series key will be reindexed to match DataFrame index.\n",
      "  df1_resampled = df1_resampled[(df1_resampled[col] >= lower_bound) & (df1[col] <= upper_bound)]\n",
      "<ipython-input-80-30050678d163>:11: UserWarning: Boolean Series key will be reindexed to match DataFrame index.\n",
      "  df1_resampled = df1_resampled[(df1_resampled[col] >= lower_bound) & (df1[col] <= upper_bound)]\n",
      "<ipython-input-80-30050678d163>:11: UserWarning: Boolean Series key will be reindexed to match DataFrame index.\n",
      "  df1_resampled = df1_resampled[(df1_resampled[col] >= lower_bound) & (df1[col] <= upper_bound)]\n",
      "<ipython-input-80-30050678d163>:11: UserWarning: Boolean Series key will be reindexed to match DataFrame index.\n",
      "  df1_resampled = df1_resampled[(df1_resampled[col] >= lower_bound) & (df1[col] <= upper_bound)]\n"
     ]
    },
    {
     "name": "stdout",
     "output_type": "stream",
     "text": [
      "DataFrame setelah menghapus outlier:\n",
      "        attack_cat_Normal      sttl  attack_cat_Exploits  attack_cat_Fuzzers  \\\n",
      "8                0.900001 -0.672178            -0.523279           -0.372094   \n",
      "29              -1.111110  1.150919            -0.523279            2.687493   \n",
      "31              -1.111110 -0.672178             1.911025           -0.372094   \n",
      "32              -1.111110 -0.672178             1.911025           -0.372094   \n",
      "34              -1.111110  1.150919            -0.523279            2.687493   \n",
      "...                   ...       ...                  ...                 ...   \n",
      "103577           0.900001 -0.966533            -0.523279           -0.372094   \n",
      "103580           0.900001 -0.966533            -0.523279           -0.372094   \n",
      "103581           0.900001 -0.966533            -0.523279           -0.372094   \n",
      "103591           0.900001 -0.966533            -0.523279           -0.372094   \n",
      "103593           0.900001 -0.966533            -0.523279           -0.372094   \n",
      "\n",
      "        ct_state_ttl      dttl  state_5     dload   state_2  label  \n",
      "8           0.505893  0.759979  -0.0134 -0.387342 -0.270126      0  \n",
      "29          0.505893  0.759979  -0.0134 -0.386308 -0.270126      0  \n",
      "31          0.505893  0.759979  -0.0134 -0.387066 -0.270126      0  \n",
      "32          0.505893  0.759979  -0.0134 -0.384195 -0.270126      0  \n",
      "34          0.505893  0.759979  -0.0134 -0.387676 -0.270126      0  \n",
      "...              ...       ...      ...       ...       ...    ...  \n",
      "103577     -1.117348 -1.317614  -0.0134  0.613066 -0.270126      1  \n",
      "103580     -1.117348 -1.317614  -0.0134  3.401228 -0.270126      1  \n",
      "103581     -1.117348 -1.317614  -0.0134  1.607404 -0.270126      1  \n",
      "103591     -1.117348 -1.317614  -0.0134 -0.209818  3.701971      1  \n",
      "103593     -1.117348 -1.317614  -0.0134 -0.264540  3.701971      1  \n",
      "\n",
      "[33286 rows x 10 columns]\n",
      "\n",
      "Jumlah outlier pada kolom 'dload': 6969\n"
     ]
    },
    {
     "name": "stderr",
     "output_type": "stream",
     "text": [
      "<ipython-input-80-30050678d163>:11: UserWarning: Boolean Series key will be reindexed to match DataFrame index.\n",
      "  df1_resampled = df1_resampled[(df1_resampled[col] >= lower_bound) & (df1[col] <= upper_bound)]\n",
      "<ipython-input-80-30050678d163>:21: UserWarning: Boolean Series key will be reindexed to match DataFrame index.\n",
      "  outliers_dload = df1_resampled[(df1_resampled[col_to_check_outliers] < lower_bound_dload) | (df1[col_to_check_outliers] > upper_bound_dload)]\n"
     ]
    }
   ],
   "source": [
    "# Definisi kolom yang akan dihapus outlier\n",
    "outlier_cols = ['attack_cat_Exploits', 'attack_cat_Normal', 'attack_cat_Fuzzers', 'ct_state_ttl', 'state_5', 'state_2']\n",
    "\n",
    "# Menghapus outlier menggunakan metode IQR\n",
    "for col in outlier_cols:\n",
    "    Q1 = df1_resampled[col].quantile(0.25)\n",
    "    Q3 = df1_resampled[col].quantile(0.75)\n",
    "    IQR = Q3 - Q1\n",
    "    lower_bound = Q1 - 1.5 * IQR\n",
    "    upper_bound = Q3 + 1.5 * IQR\n",
    "    df1_resampled = df1_resampled[(df1_resampled[col] >= lower_bound) & (df1[col] <= upper_bound)]\n",
    "\n",
    "# Menghitung jumlah outlier pada kolom 'dload'\n",
    "col_to_check_outliers = 'dload'\n",
    "Q1_dload = df1_resampled[col_to_check_outliers].quantile(0.25)\n",
    "Q3_dload = df1_resampled[col_to_check_outliers].quantile(0.75)\n",
    "IQR_dload = Q3_dload - Q1_dload\n",
    "lower_bound_dload = Q1_dload - 1.5 * IQR_dload\n",
    "upper_bound_dload = Q3_dload + 1.5 * IQR_dload\n",
    "\n",
    "outliers_dload = df1_resampled[(df1_resampled[col_to_check_outliers] < lower_bound_dload) | (df1[col_to_check_outliers] > upper_bound_dload)]\n",
    "\n",
    "# Menampilkan DataFrame setelah menghapus outlier\n",
    "print(\"DataFrame setelah menghapus outlier:\")\n",
    "print(df1_resampled)\n",
    "\n",
    "# Menampilkan jumlah outlier pada kolom 'dload'\n",
    "print(\"\\nJumlah outlier pada kolom 'dload':\", len(outliers_dload))"
   ]
  },
  {
   "cell_type": "code",
   "execution_count": 81,
   "metadata": {
    "colab": {
     "base_uri": "https://localhost:8080/"
    },
    "id": "xt0cM5SE1f4-",
    "outputId": "c91cb9b9-6785-4e42-cf63-c0e8ed47bf5b"
   },
   "outputs": [
    {
     "name": "stdout",
     "output_type": "stream",
     "text": [
      "DataFrame setelah menghapus outlier:\n",
      "        attack_cat_Normal      sttl  attack_cat_Exploits  attack_cat_Fuzzers  \\\n",
      "8                0.900001 -0.672178            -0.523279           -0.372094   \n",
      "29              -1.111110  1.150919            -0.523279            2.687493   \n",
      "31              -1.111110 -0.672178             1.911025           -0.372094   \n",
      "32              -1.111110 -0.672178             1.911025           -0.372094   \n",
      "34              -1.111110  1.150919            -0.523279            2.687493   \n",
      "...                   ...       ...                  ...                 ...   \n",
      "103557           0.900001 -0.966533            -0.523279           -0.372094   \n",
      "103569           0.900001 -0.966533            -0.523279           -0.372094   \n",
      "103574           0.900001 -0.966533            -0.523279           -0.372094   \n",
      "103591           0.900001 -0.966533            -0.523279           -0.372094   \n",
      "103593           0.900001 -0.966533            -0.523279           -0.372094   \n",
      "\n",
      "        ct_state_ttl      dttl  state_5     dload   state_2  label  \n",
      "8           0.505893  0.759979  -0.0134 -0.387342 -0.270126      0  \n",
      "29          0.505893  0.759979  -0.0134 -0.386308 -0.270126      0  \n",
      "31          0.505893  0.759979  -0.0134 -0.387066 -0.270126      0  \n",
      "32          0.505893  0.759979  -0.0134 -0.384195 -0.270126      0  \n",
      "34          0.505893  0.759979  -0.0134 -0.387676 -0.270126      0  \n",
      "...              ...       ...      ...       ...       ...    ...  \n",
      "103557     -1.117348 -1.317614  -0.0134 -0.283674  3.701971      1  \n",
      "103569     -1.117348 -1.317614  -0.0134 -0.205214  3.701971      1  \n",
      "103574     -1.117348 -1.317614  -0.0134 -0.260917  3.701971      1  \n",
      "103591     -1.117348 -1.317614  -0.0134 -0.209818  3.701971      1  \n",
      "103593     -1.117348 -1.317614  -0.0134 -0.264540  3.701971      1  \n",
      "\n",
      "[27161 rows x 10 columns]\n"
     ]
    }
   ],
   "source": [
    "# Menghitung nilai IQR, lower bound, dan upper bound untuk 'dload'\n",
    "Q1_dload = df1_resampled['dload'].quantile(0.25)\n",
    "Q3_dload = df1_resampled['dload'].quantile(0.75)\n",
    "IQR_dload = Q3_dload - Q1_dload\n",
    "lower_bound_dload = Q1_dload - 1.5 * IQR_dload\n",
    "upper_bound_dload = Q3_dload + 1.5 * IQR_dload\n",
    "\n",
    "# Menghapus outlier pada kolom 'dload'\n",
    "df1_resampled = df1_resampled[(df1_resampled['dload'] >= lower_bound_dload) & (df1_resampled['dload'] <= upper_bound_dload)]\n",
    "\n",
    "# Menampilkan DataFrame setelah menghapus outlier\n",
    "print(\"DataFrame setelah menghapus outlier:\")\n",
    "print(df1_resampled)"
   ]
  },
  {
   "cell_type": "code",
   "execution_count": 82,
   "metadata": {
    "colab": {
     "base_uri": "https://localhost:8080/",
     "height": 393
    },
    "id": "wwCiV9ty1j5g",
    "outputId": "282b10a5-e319-4be1-e08a-3f137f0c5d79"
   },
   "outputs": [
    {
     "data": {
      "image/png": "[encoded data removed]",
      "text/plain": [
       "<Figure size 1800x432 with 1 Axes>"
      ]
     },
     "metadata": {
      "needs_background": "light"
     },
     "output_type": "display_data"
    }
   ],
   "source": [
    "# Membuat boxplot menggunakan Seaborn\n",
    "plt.figure(figsize=(25, 6))\n",
    "sns.boxplot(data=df1_resampled)\n",
    "plt.title('Boxplot Distribusi Data Setiap Variabel')\n",
    "plt.show()"
   ]
  },
  {
   "cell_type": "code",
   "execution_count": 83,
   "metadata": {
    "colab": {
     "base_uri": "https://localhost:8080/"
    },
    "id": "DL4zubPhNtAk",
    "outputId": "ee24ea6e-3315-4aaa-c010-d6b18a8fda34"
   },
   "outputs": [
    {
     "data": {
      "text/plain": [
       "8         0\n",
       "29        0\n",
       "31        0\n",
       "32        0\n",
       "34        0\n",
       "         ..\n",
       "103557    1\n",
       "103569    1\n",
       "103574    1\n",
       "103591    1\n",
       "103593    1\n",
       "Name: label, Length: 27161, dtype: int64"
      ]
     },
     "execution_count": 83,
     "metadata": {},
     "output_type": "execute_result"
    }
   ],
   "source": [
    "df1_resampled['label']"
   ]
  },
  {
   "cell_type": "code",
   "execution_count": 103,
   "metadata": {},
   "outputs": [
    {
     "data": {
      "text/plain": [
       "attack_cat_Normal      float64\n",
       "sttl                   float64\n",
       "attack_cat_Exploits    float64\n",
       "attack_cat_Fuzzers     float64\n",
       "ct_state_ttl           float64\n",
       "dttl                   float64\n",
       "state_5                float64\n",
       "dload                  float64\n",
       "state_2                float64\n",
       "label                    int64\n",
       "dtype: object"
      ]
     },
     "execution_count": 103,
     "metadata": {},
     "output_type": "execute_result"
    }
   ],
   "source": [
    "df1_resampled.dtypes"
   ]
  },
  {
   "cell_type": "code",
   "execution_count": 84,
   "metadata": {
    "colab": {
     "base_uri": "https://localhost:8080/"
    },
    "id": "4f0oaKabtjr4",
    "outputId": "ead9d716-2308-40fb-f19d-b672321d8a72"
   },
   "outputs": [
    {
     "name": "stdout",
     "output_type": "stream",
     "text": [
      "    attack_cat_Normal      sttl  attack_cat_Exploits  attack_cat_Fuzzers  \\\n",
      "8            0.900001 -0.672178            -0.523279           -0.372094   \n",
      "29          -1.111110  1.150919            -0.523279            2.687493   \n",
      "31          -1.111110 -0.672178             1.911025           -0.372094   \n",
      "32          -1.111110 -0.672178             1.911025           -0.372094   \n",
      "34          -1.111110  1.150919            -0.523279            2.687493   \n",
      "\n",
      "    ct_state_ttl      dttl  state_5     dload   state_2  \n",
      "8       0.505893  0.759979  -0.0134 -0.387342 -0.270126  \n",
      "29      0.505893  0.759979  -0.0134 -0.386308 -0.270126  \n",
      "31      0.505893  0.759979  -0.0134 -0.387066 -0.270126  \n",
      "32      0.505893  0.759979  -0.0134 -0.384195 -0.270126  \n",
      "34      0.505893  0.759979  -0.0134 -0.387676 -0.270126  \n",
      "X_train shape: (19012, 9)\n",
      "y_train shape: (19012,)\n",
      "X_test shape: (8149, 9)\n",
      "y_test shape: (8149,)\n"
     ]
    }
   ],
   "source": [
    "from sklearn.model_selection import train_test_split\n",
    "\n",
    "# Periksa hasil dari df1.drop\n",
    "features = df1_resampled.drop(['label'], axis=1)\n",
    "print(features.head())\n",
    "\n",
    "# Lanjutkan dengan pemisahan data\n",
    "X = features\n",
    "y = df1_resampled['label'].values\n",
    "\n",
    "# Split the data\n",
    "X_train, X_test, y_train, y_test = train_test_split(X, y, test_size=0.3, random_state=42)\n",
    "\n",
    "# Print the shape of train and test data\n",
    "print(f\"X_train shape: {X_train.shape}\")\n",
    "print(f\"y_train shape: {y_train.shape}\")\n",
    "print(f\"X_test shape: {X_test.shape}\")\n",
    "print(f\"y_test shape: {y_test.shape}\")"
   ]
  },
  {
   "cell_type": "code",
   "execution_count": 85,
   "metadata": {
    "colab": {
     "base_uri": "https://localhost:8080/",
     "height": 423
    },
    "id": "27pefM9SIDxU",
    "outputId": "91fe7e4b-42f9-440c-d66a-a349c31bff76"
   },
   "outputs": [
    {
     "data": {
      "text/html": [
       "<div>\n",
       "<style scoped>\n",
       "    .dataframe tbody tr th:only-of-type {\n",
       "        vertical-align: middle;\n",
       "    }\n",
       "\n",
       "    .dataframe tbody tr th {\n",
       "        vertical-align: top;\n",
       "    }\n",
       "\n",
       "    .dataframe thead th {\n",
       "        text-align: right;\n",
       "    }\n",
       "</style>\n",
       "<table border=\"1\" class=\"dataframe\">\n",
       "  <thead>\n",
       "    <tr style=\"text-align: right;\">\n",
       "      <th></th>\n",
       "      <th>attack_cat_Normal</th>\n",
       "      <th>sttl</th>\n",
       "      <th>attack_cat_Exploits</th>\n",
       "      <th>attack_cat_Fuzzers</th>\n",
       "      <th>ct_state_ttl</th>\n",
       "      <th>dttl</th>\n",
       "      <th>state_5</th>\n",
       "      <th>dload</th>\n",
       "      <th>state_2</th>\n",
       "    </tr>\n",
       "  </thead>\n",
       "  <tbody>\n",
       "    <tr>\n",
       "      <th>8</th>\n",
       "      <td>0.900001</td>\n",
       "      <td>-0.672178</td>\n",
       "      <td>-0.523279</td>\n",
       "      <td>-0.372094</td>\n",
       "      <td>0.505893</td>\n",
       "      <td>0.759979</td>\n",
       "      <td>-0.0134</td>\n",
       "      <td>-0.387342</td>\n",
       "      <td>-0.270126</td>\n",
       "    </tr>\n",
       "    <tr>\n",
       "      <th>29</th>\n",
       "      <td>-1.111110</td>\n",
       "      <td>1.150919</td>\n",
       "      <td>-0.523279</td>\n",
       "      <td>2.687493</td>\n",
       "      <td>0.505893</td>\n",
       "      <td>0.759979</td>\n",
       "      <td>-0.0134</td>\n",
       "      <td>-0.386308</td>\n",
       "      <td>-0.270126</td>\n",
       "    </tr>\n",
       "    <tr>\n",
       "      <th>31</th>\n",
       "      <td>-1.111110</td>\n",
       "      <td>-0.672178</td>\n",
       "      <td>1.911025</td>\n",
       "      <td>-0.372094</td>\n",
       "      <td>0.505893</td>\n",
       "      <td>0.759979</td>\n",
       "      <td>-0.0134</td>\n",
       "      <td>-0.387066</td>\n",
       "      <td>-0.270126</td>\n",
       "    </tr>\n",
       "    <tr>\n",
       "      <th>32</th>\n",
       "      <td>-1.111110</td>\n",
       "      <td>-0.672178</td>\n",
       "      <td>1.911025</td>\n",
       "      <td>-0.372094</td>\n",
       "      <td>0.505893</td>\n",
       "      <td>0.759979</td>\n",
       "      <td>-0.0134</td>\n",
       "      <td>-0.384195</td>\n",
       "      <td>-0.270126</td>\n",
       "    </tr>\n",
       "    <tr>\n",
       "      <th>34</th>\n",
       "      <td>-1.111110</td>\n",
       "      <td>1.150919</td>\n",
       "      <td>-0.523279</td>\n",
       "      <td>2.687493</td>\n",
       "      <td>0.505893</td>\n",
       "      <td>0.759979</td>\n",
       "      <td>-0.0134</td>\n",
       "      <td>-0.387676</td>\n",
       "      <td>-0.270126</td>\n",
       "    </tr>\n",
       "    <tr>\n",
       "      <th>...</th>\n",
       "      <td>...</td>\n",
       "      <td>...</td>\n",
       "      <td>...</td>\n",
       "      <td>...</td>\n",
       "      <td>...</td>\n",
       "      <td>...</td>\n",
       "      <td>...</td>\n",
       "      <td>...</td>\n",
       "      <td>...</td>\n",
       "    </tr>\n",
       "    <tr>\n",
       "      <th>103557</th>\n",
       "      <td>0.900001</td>\n",
       "      <td>-0.966533</td>\n",
       "      <td>-0.523279</td>\n",
       "      <td>-0.372094</td>\n",
       "      <td>-1.117348</td>\n",
       "      <td>-1.317614</td>\n",
       "      <td>-0.0134</td>\n",
       "      <td>-0.283674</td>\n",
       "      <td>3.701971</td>\n",
       "    </tr>\n",
       "    <tr>\n",
       "      <th>103569</th>\n",
       "      <td>0.900001</td>\n",
       "      <td>-0.966533</td>\n",
       "      <td>-0.523279</td>\n",
       "      <td>-0.372094</td>\n",
       "      <td>-1.117348</td>\n",
       "      <td>-1.317614</td>\n",
       "      <td>-0.0134</td>\n",
       "      <td>-0.205214</td>\n",
       "      <td>3.701971</td>\n",
       "    </tr>\n",
       "    <tr>\n",
       "      <th>103574</th>\n",
       "      <td>0.900001</td>\n",
       "      <td>-0.966533</td>\n",
       "      <td>-0.523279</td>\n",
       "      <td>-0.372094</td>\n",
       "      <td>-1.117348</td>\n",
       "      <td>-1.317614</td>\n",
       "      <td>-0.0134</td>\n",
       "      <td>-0.260917</td>\n",
       "      <td>3.701971</td>\n",
       "    </tr>\n",
       "    <tr>\n",
       "      <th>103591</th>\n",
       "      <td>0.900001</td>\n",
       "      <td>-0.966533</td>\n",
       "      <td>-0.523279</td>\n",
       "      <td>-0.372094</td>\n",
       "      <td>-1.117348</td>\n",
       "      <td>-1.317614</td>\n",
       "      <td>-0.0134</td>\n",
       "      <td>-0.209818</td>\n",
       "      <td>3.701971</td>\n",
       "    </tr>\n",
       "    <tr>\n",
       "      <th>103593</th>\n",
       "      <td>0.900001</td>\n",
       "      <td>-0.966533</td>\n",
       "      <td>-0.523279</td>\n",
       "      <td>-0.372094</td>\n",
       "      <td>-1.117348</td>\n",
       "      <td>-1.317614</td>\n",
       "      <td>-0.0134</td>\n",
       "      <td>-0.264540</td>\n",
       "      <td>3.701971</td>\n",
       "    </tr>\n",
       "  </tbody>\n",
       "</table>\n",
       "<p>27161 rows × 9 columns</p>\n",
       "</div>"
      ],
      "text/plain": [
       "        attack_cat_Normal      sttl  attack_cat_Exploits  attack_cat_Fuzzers  \\\n",
       "8                0.900001 -0.672178            -0.523279           -0.372094   \n",
       "29              -1.111110  1.150919            -0.523279            2.687493   \n",
       "31              -1.111110 -0.672178             1.911025           -0.372094   \n",
       "32              -1.111110 -0.672178             1.911025           -0.372094   \n",
       "34              -1.111110  1.150919            -0.523279            2.687493   \n",
       "...                   ...       ...                  ...                 ...   \n",
       "103557           0.900001 -0.966533            -0.523279           -0.372094   \n",
       "103569           0.900001 -0.966533            -0.523279           -0.372094   \n",
       "103574           0.900001 -0.966533            -0.523279           -0.372094   \n",
       "103591           0.900001 -0.966533            -0.523279           -0.372094   \n",
       "103593           0.900001 -0.966533            -0.523279           -0.372094   \n",
       "\n",
       "        ct_state_ttl      dttl  state_5     dload   state_2  \n",
       "8           0.505893  0.759979  -0.0134 -0.387342 -0.270126  \n",
       "29          0.505893  0.759979  -0.0134 -0.386308 -0.270126  \n",
       "31          0.505893  0.759979  -0.0134 -0.387066 -0.270126  \n",
       "32          0.505893  0.759979  -0.0134 -0.384195 -0.270126  \n",
       "34          0.505893  0.759979  -0.0134 -0.387676 -0.270126  \n",
       "...              ...       ...      ...       ...       ...  \n",
       "103557     -1.117348 -1.317614  -0.0134 -0.283674  3.701971  \n",
       "103569     -1.117348 -1.317614  -0.0134 -0.205214  3.701971  \n",
       "103574     -1.117348 -1.317614  -0.0134 -0.260917  3.701971  \n",
       "103591     -1.117348 -1.317614  -0.0134 -0.209818  3.701971  \n",
       "103593     -1.117348 -1.317614  -0.0134 -0.264540  3.701971  \n",
       "\n",
       "[27161 rows x 9 columns]"
      ]
     },
     "execution_count": 85,
     "metadata": {},
     "output_type": "execute_result"
    }
   ],
   "source": [
    "X"
   ]
  },
  {
   "cell_type": "code",
   "execution_count": 86,
   "metadata": {
    "colab": {
     "base_uri": "https://localhost:8080/"
    },
    "id": "rLNBOR2JISAG",
    "outputId": "2511952e-8412-498d-e079-ce5952cf7873"
   },
   "outputs": [
    {
     "data": {
      "text/plain": [
       "array([0, 0, 0, ..., 1, 1, 1], dtype=int64)"
      ]
     },
     "execution_count": 86,
     "metadata": {},
     "output_type": "execute_result"
    }
   ],
   "source": [
    "y"
   ]
  },
  {
   "cell_type": "code",
   "execution_count": 87,
   "metadata": {
    "colab": {
     "base_uri": "https://localhost:8080/"
    },
    "id": "jPTkG72k9pdc",
    "outputId": "7c37d6a0-319b-48ec-cfe5-168d1fbf4e48"
   },
   "outputs": [
    {
     "name": "stdout",
     "output_type": "stream",
     "text": [
      "Accuracy: 0.8655\n",
      "Precision: 0.7615\n",
      "Recall: 0.8062\n",
      "F1 Score: 0.7832\n",
      "\n",
      "Confusion Matrix:\n",
      "[[5073  620]\n",
      " [ 476 1980]]\n",
      "\n",
      "Classification Report:\n",
      "              precision    recall  f1-score   support\n",
      "\n",
      "           0       0.91      0.89      0.90      5693\n",
      "           1       0.76      0.81      0.78      2456\n",
      "\n",
      "    accuracy                           0.87      8149\n",
      "   macro avg       0.84      0.85      0.84      8149\n",
      "weighted avg       0.87      0.87      0.87      8149\n",
      "\n"
     ]
    }
   ],
   "source": [
    "from sklearn.metrics import accuracy_score, precision_score, recall_score, f1_score, confusion_matrix, classification_report\n",
    "from sklearn.ensemble import RandomForestClassifier\n",
    "\n",
    "# Contoh: Membuat model (Random Forest Classifier)\n",
    "model = RandomForestClassifier(random_state=42)\n",
    "model.fit(X_train, y_train)\n",
    "\n",
    "# Menggunakan model untuk membuat prediksi\n",
    "y_pred = model.predict(X_test)\n",
    "\n",
    "# Menghitung metrik evaluasi\n",
    "accuracy = accuracy_score(y_test, y_pred)\n",
    "precision = precision_score(y_test, y_pred)\n",
    "recall = recall_score(y_test, y_pred)\n",
    "f1 = f1_score(y_test, y_pred)\n",
    "\n",
    "# Mencetak hasil evaluasi\n",
    "print(f'Accuracy: {accuracy:.4f}')\n",
    "print(f'Precision: {precision:.4f}')\n",
    "print(f'Recall: {recall:.4f}')\n",
    "print(f'F1 Score: {f1:.4f}')\n",
    "\n",
    "# Confusion Matrix\n",
    "conf_matrix = confusion_matrix(y_test, y_pred)\n",
    "print('\\nConfusion Matrix:')\n",
    "print(conf_matrix)\n",
    "\n",
    "# Classification Report\n",
    "class_report = classification_report(y_test, y_pred)\n",
    "print('\\nClassification Report:')\n",
    "print(class_report)"
   ]
  },
  {
   "cell_type": "code",
   "execution_count": 88,
   "metadata": {
    "colab": {
     "base_uri": "https://localhost:8080/"
    },
    "id": "WSfyoguf3i_f",
    "outputId": "98243653-5192-4afb-89a2-b3dea796194b"
   },
   "outputs": [
    {
     "name": "stdout",
     "output_type": "stream",
     "text": [
      "Parameter Terbaik Random Forest Classifier:\n",
      "{'max_depth': 10, 'min_samples_leaf': 4, 'min_samples_split': 5, 'n_estimators': 50}\n",
      "Akurasi Terbaik Random Forest Classifier: 0.8885439163544834\n"
     ]
    }
   ],
   "source": [
    "from sklearn.model_selection import GridSearchCV\n",
    "\n",
    "# Inisialisasi model Random Forest Classifier\n",
    "rf_model = RandomForestClassifier()\n",
    "\n",
    "# Definisi grid parameter yang akan diuji\n",
    "param_grid = {\n",
    "    'n_estimators': [50, 100, 200],\n",
    "    'max_depth': [None, 10, 20],\n",
    "    'min_samples_split': [2, 5, 10],\n",
    "    'min_samples_leaf': [1, 2, 4]\n",
    "}\n",
    "\n",
    "# Inisialisasi GridSearchCV\n",
    "grid_search = GridSearchCV(estimator=rf_model, param_grid=param_grid, cv=3, scoring='accuracy')\n",
    "\n",
    "# Melatih model dengan grid search\n",
    "grid_search.fit(X_train, y_train)\n",
    "\n",
    "# Menampilkan parameter terbaik\n",
    "print(\"Parameter Terbaik Random Forest Classifier:\")\n",
    "print(grid_search.best_params_)\n",
    "\n",
    "# Menampilkan akurasi terbaik\n",
    "print(\"Akurasi Terbaik Random Forest Classifier:\", grid_search.best_score_)"
   ]
  },
  {
   "cell_type": "code",
   "execution_count": 89,
   "metadata": {
    "colab": {
     "base_uri": "https://localhost:8080/",
     "height": 894
    },
    "id": "Zimjn_Jn65Su",
    "outputId": "9134512a-04f5-4fa4-a0ff-f9cc6351adcf"
   },
   "outputs": [
    {
     "name": "stdout",
     "output_type": "stream",
     "text": [
      "\n",
      "Confusion Matrix:\n",
      "[[5402  291]\n",
      " [ 588 1868]]\n",
      "\n",
      "Classification Report:\n",
      "              precision    recall  f1-score   support\n",
      "\n",
      "           0       0.90      0.95      0.92      5693\n",
      "           1       0.87      0.76      0.81      2456\n",
      "\n",
      "    accuracy                           0.89      8149\n",
      "   macro avg       0.88      0.85      0.87      8149\n",
      "weighted avg       0.89      0.89      0.89      8149\n",
      "\n",
      "Accuracy: 0.8921\n",
      "Precision: 0.8652\n",
      "Recall: 0.7606\n",
      "F1 Score: 0.8095\n"
     ]
    },
    {
     "data": {
      "image/png": "[encoded data removed]",
      "text/plain": [
       "<Figure size 576x432 with 1 Axes>"
      ]
     },
     "metadata": {
      "needs_background": "light"
     },
     "output_type": "display_data"
    }
   ],
   "source": [
    "from sklearn.ensemble import RandomForestClassifier\n",
    "from sklearn.metrics import accuracy_score, precision_score, recall_score, f1_score, confusion_matrix, classification_report\n",
    "\n",
    "# Inisialisasi model Random Forest Classifier dengan parameter terbaik\n",
    "rf_model_best = RandomForestClassifier(\n",
    "    max_depth=10,\n",
    "    min_samples_leaf=1,\n",
    "    min_samples_split=2,\n",
    "    n_estimators=50\n",
    ")\n",
    "\n",
    "# Melatih model dengan data latih\n",
    "rf_model_best.fit(X_train, y_train)\n",
    "\n",
    "# Membuat prediksi menggunakan model\n",
    "y_pred = rf_model_best.predict(X_test)\n",
    "\n",
    "# Evaluasi model\n",
    "accuracy = accuracy_score(y_test, y_pred)\n",
    "precision = precision_score(y_test, y_pred)\n",
    "recall = recall_score(y_test, y_pred)\n",
    "f1 = f1_score(y_test, y_pred)\n",
    "\n",
    "# Confusion Matrix\n",
    "conf_matrix = confusion_matrix(y_test, y_pred)\n",
    "print('\\nConfusion Matrix:')\n",
    "print(conf_matrix)\n",
    "\n",
    "# Classification Report\n",
    "class_report = classification_report(y_test, y_pred)\n",
    "print('\\nClassification Report:')\n",
    "print(class_report)\n",
    "\n",
    "# Menampilkan hasil evaluasi\n",
    "print(f'Accuracy: {accuracy:.4f}')\n",
    "print(f'Precision: {precision:.4f}')\n",
    "print(f'Recall: {recall:.4f}')\n",
    "print(f'F1 Score: {f1:.4f}')\n",
    "\n",
    "# Visualisasi Confusion Matrix\n",
    "plt.figure(figsize=(8, 6))\n",
    "sns.heatmap(conf_matrix, annot=True, fmt='d', cmap='Blues', cbar=False)\n",
    "plt.title('Confusion Matrix')\n",
    "plt.xlabel('Predicted')\n",
    "plt.ylabel('Actual')\n",
    "plt.show()"
   ]
  },
  {
   "cell_type": "code",
   "execution_count": 90,
   "metadata": {
    "colab": {
     "base_uri": "https://localhost:8080/",
     "height": 718
    },
    "id": "M6egj0dfzN8o",
    "outputId": "12fb9bfa-8e26-4619-8812-8d683ce6cd50"
   },
   "outputs": [
    {
     "data": {
      "image/png": "[encoded data removed]",
      "text/plain": [
       "<Figure size 576x576 with 1 Axes>"
      ]
     },
     "metadata": {
      "needs_background": "light"
     },
     "output_type": "display_data"
    }
   ],
   "source": [
    "from sklearn.metrics import roc_curve, auc\n",
    "import matplotlib.pyplot as plt\n",
    "from sklearn.model_selection import train_test_split\n",
    "from sklearn.ensemble import RandomForestClassifier\n",
    "\n",
    "# Membuat dan melatih model RandomForest Classifier (sebagai contoh)\n",
    "rf_model = RandomForestClassifier(random_state=42)\n",
    "rf_model.fit(X_train, y_train)\n",
    "\n",
    "# Menghitung nilai prediksi probabilitas untuk kelas positif\n",
    "y_probs = rf_model.predict_proba(X_test)[:, 1]\n",
    "\n",
    "# Menghitung kurva ROC\n",
    "fpr, tpr, thresholds = roc_curve(y_test, y_probs)\n",
    "roc_auc = auc(fpr, tpr)\n",
    "\n",
    "# Menampilkan kurva ROC\n",
    "plt.figure(figsize=(8, 8))\n",
    "plt.plot(fpr, tpr, color='darkorange', lw=2, label=f'ROC curve (area = {roc_auc:.2f})')\n",
    "plt.plot([0, 1], [0, 1], color='navy', lw=2, linestyle='--')\n",
    "plt.xlabel('False Positive Rate')\n",
    "plt.ylabel('True Positive Rate')\n",
    "plt.title('Receiver Operating Characteristic (ROC) Curve')\n",
    "plt.legend(loc='lower right')\n",
    "plt.show()"
   ]
  },
  {
   "cell_type": "code",
   "execution_count": 92,
   "metadata": {
    "colab": {
     "base_uri": "https://localhost:8080/",
     "height": 1000
    },
    "id": "iubrIIiNG9qc",
    "outputId": "cfc87f13-c0e3-41fd-ac11-86161d62440c"
   },
   "outputs": [
    {
     "name": "stdout",
     "output_type": "stream",
     "text": [
      "\n",
      "Confusion Matrix XGBoost:\n",
      "[[5404  289]\n",
      " [ 601 1855]]\n",
      "\n",
      "Classification Report XGBoost:\n",
      "              precision    recall  f1-score   support\n",
      "\n",
      "           0       0.90      0.95      0.92      5693\n",
      "           1       0.87      0.76      0.81      2456\n",
      "\n",
      "    accuracy                           0.89      8149\n",
      "   macro avg       0.88      0.85      0.87      8149\n",
      "weighted avg       0.89      0.89      0.89      8149\n",
      "\n",
      "Accuracy XGBoost: 0.8908\n",
      "Precision XGBoost: 0.8652\n",
      "Recall XGBoost: 0.7553\n",
      "F1 Score XGBoost: 0.8065\n"
     ]
    },
    {
     "data": {
      "image/png": "[encoded data removed]",
      "text/plain": [
       "<Figure size 576x432 with 1 Axes>"
      ]
     },
     "metadata": {
      "needs_background": "light"
     },
     "output_type": "display_data"
    },
    {
     "data": {
      "image/png": "[encoded data removed]",
      "text/plain": [
       "<Figure size 576x432 with 1 Axes>"
      ]
     },
     "metadata": {
      "needs_background": "light"
     },
     "output_type": "display_data"
    }
   ],
   "source": [
    "import xgboost as xgb\n",
    "from sklearn.metrics import accuracy_score, precision_score, recall_score, f1_score, confusion_matrix, classification_report, roc_curve, auc\n",
    "from sklearn.model_selection import train_test_split\n",
    "import matplotlib.pyplot as plt\n",
    "from sklearn.metrics import roc_auc_score\n",
    "\n",
    "# Membuat dataset dan membaginya menjadi data latih dan data uji\n",
    "X_train, X_test, y_train, y_test = train_test_split(X, y, test_size=0.3, random_state=42)\n",
    "\n",
    "# Inisialisasi model XGBoost\n",
    "xgb_model = xgb.XGBClassifier(random_state=42)\n",
    "\n",
    "# Melatih model\n",
    "xgb_model.fit(X_train, y_train)\n",
    "\n",
    "# Membuat prediksi\n",
    "y_pred_xgb = xgb_model.predict(X_test)\n",
    "\n",
    "# Evaluasi model XGBoost\n",
    "accuracy_xgb = accuracy_score(y_test, y_pred_xgb)\n",
    "precision_xgb = precision_score(y_test, y_pred_xgb)\n",
    "recall_xgb = recall_score(y_test, y_pred_xgb)\n",
    "f1_xgb = f1_score(y_test, y_pred_xgb)\n",
    "\n",
    "# Confusion Matrix\n",
    "conf_matrix_xgb = confusion_matrix(y_test, y_pred_xgb)\n",
    "print('\\nConfusion Matrix XGBoost:')\n",
    "print(conf_matrix_xgb)\n",
    "\n",
    "# Classification Report\n",
    "class_report_xgb = classification_report(y_test, y_pred_xgb)\n",
    "print('\\nClassification Report XGBoost:')\n",
    "print(class_report_xgb)\n",
    "\n",
    "# Menampilkan hasil evaluasi model XGBoost\n",
    "print(f'Accuracy XGBoost: {accuracy_xgb:.4f}')\n",
    "print(f'Precision XGBoost: {precision_xgb:.4f}')\n",
    "print(f'Recall XGBoost: {recall_xgb:.4f}')\n",
    "print(f'F1 Score XGBoost: {f1_xgb:.4f}')\n",
    "\n",
    "# Visualisasi Confusion Matrix\n",
    "plt.figure(figsize=(8, 6))\n",
    "sns.heatmap(conf_matrix_xgb, annot=True, fmt='d', cmap='Blues', cbar=False)\n",
    "plt.title('Confusion Matrix XGBoost')\n",
    "plt.xlabel('Predicted')\n",
    "plt.ylabel('Actual')\n",
    "plt.show()\n",
    "\n",
    "# Visualisasi ROC Curve\n",
    "y_prob_xgb = xgb_model.predict_proba(X_test)[:, 1]\n",
    "fpr, tpr, thresholds = roc_curve(y_test, y_prob_xgb)\n",
    "roc_auc = auc(fpr, tpr)\n",
    "\n",
    "plt.figure(figsize=(8, 6))\n",
    "plt.plot(fpr, tpr, color='darkorange', lw=2, label='ROC curve (area = {:.2f})'.format(roc_auc))\n",
    "plt.plot([0, 1], [0, 1], color='navy', lw=2, linestyle='--')\n",
    "plt.xlabel('False Positive Rate')\n",
    "plt.ylabel('True Positive Rate')\n",
    "plt.title('Receiver Operating Characteristic (ROC) Curve')\n",
    "plt.legend(loc='lower right')\n",
    "plt.show()"
   ]
  },
  {
   "cell_type": "code",
   "execution_count": 94,
   "metadata": {
    "colab": {
     "base_uri": "https://localhost:8080/",
     "height": 1000
    },
    "id": "1KT1KzQhG_I_",
    "outputId": "6335ea33-6b60-448a-d7bc-a475e55aec16"
   },
   "outputs": [
    {
     "name": "stdout",
     "output_type": "stream",
     "text": [
      "[LightGBM] [Info] Number of positive: 5672, number of negative: 13340\n",
      "[LightGBM] [Info] Auto-choosing row-wise multi-threading, the overhead of testing was 0.002444 seconds.\n",
      "You can set `force_row_wise=true` to remove the overhead.\n",
      "And if memory is not enough, you can set `force_col_wise=true`.\n",
      "[LightGBM] [Info] Total Bins 289\n",
      "[LightGBM] [Info] Number of data points in the train set: 19012, number of used features: 8\n",
      "[LightGBM] [Info] [binary:BoostFromScore]: pavg=0.298338 -> initscore=-0.855225\n",
      "[LightGBM] [Info] Start training from score -0.855225\n",
      "\n",
      "Confusion Matrix LightGBM:\n",
      "[[5408  285]\n",
      " [ 595 1861]]\n",
      "\n",
      "Classification Report LightGBM:\n",
      "              precision    recall  f1-score   support\n",
      "\n",
      "           0       0.90      0.95      0.92      5693\n",
      "           1       0.87      0.76      0.81      2456\n",
      "\n",
      "    accuracy                           0.89      8149\n",
      "   macro avg       0.88      0.85      0.87      8149\n",
      "weighted avg       0.89      0.89      0.89      8149\n",
      "\n",
      "Accuracy LightGBM: 0.8920\n",
      "Precision LightGBM: 0.8672\n",
      "Recall LightGBM: 0.7577\n",
      "F1 Score LightGBM: 0.8088\n"
     ]
    },
    {
     "data": {
      "image/png": "[encoded data removed]",
      "text/plain": [
       "<Figure size 576x432 with 1 Axes>"
      ]
     },
     "metadata": {
      "needs_background": "light"
     },
     "output_type": "display_data"
    },
    {
     "data": {
      "image/png": "[encoded data removed]",
      "text/plain": [
       "<Figure size 576x432 with 1 Axes>"
      ]
     },
     "metadata": {
      "needs_background": "light"
     },
     "output_type": "display_data"
    },
    {
     "name": "stdout",
     "output_type": "stream",
     "text": [
      "\n",
      "Area under ROC Curve: 0.8973\n"
     ]
    }
   ],
   "source": [
    "import lightgbm as lgb\n",
    "from sklearn.model_selection import train_test_split\n",
    "from sklearn.metrics import accuracy_score, precision_score, recall_score, f1_score, confusion_matrix, classification_report, roc_curve, roc_auc_score\n",
    "import matplotlib.pyplot as plt\n",
    "import seaborn as sns\n",
    "\n",
    "# Membuat dataset dan membaginya menjadi data latih dan data uji\n",
    "X_train, X_test, y_train, y_test = train_test_split(X, y, test_size=0.3, random_state=42)\n",
    "\n",
    "# Inisialisasi model LightGBM\n",
    "lgb_model = lgb.LGBMClassifier(random_state=42)\n",
    "\n",
    "# Melatih model\n",
    "lgb_model.fit(X_train, y_train)\n",
    "\n",
    "# Membuat prediksi\n",
    "y_pred_lgb = lgb_model.predict(X_test)\n",
    "\n",
    "# Evaluasi model LightGBM\n",
    "accuracy_lgb = accuracy_score(y_test, y_pred_lgb)\n",
    "precision_lgb = precision_score(y_test, y_pred_lgb)\n",
    "recall_lgb = recall_score(y_test, y_pred_lgb)\n",
    "f1_lgb = f1_score(y_test, y_pred_lgb)\n",
    "\n",
    "# Confusion Matrix\n",
    "conf_matrix_lgb = confusion_matrix(y_test, y_pred_lgb)\n",
    "print('\\nConfusion Matrix LightGBM:')\n",
    "print(conf_matrix_lgb)\n",
    "\n",
    "# Classification Report\n",
    "class_report_lgb = classification_report(y_test, y_pred_lgb)\n",
    "print('\\nClassification Report LightGBM:')\n",
    "print(class_report_lgb)\n",
    "\n",
    "# Menampilkan hasil evaluasi model LightGBM\n",
    "print(f'Accuracy LightGBM: {accuracy_lgb:.4f}')\n",
    "print(f'Precision LightGBM: {precision_lgb:.4f}')\n",
    "print(f'Recall LightGBM: {recall_lgb:.4f}')\n",
    "print(f'F1 Score LightGBM: {f1_lgb:.4f}')\n",
    "\n",
    "# Visualisasi Confusion Matrix\n",
    "plt.figure(figsize=(8, 6))\n",
    "sns.heatmap(conf_matrix_lgb, annot=True, fmt='d', cmap='Blues', cbar=False)\n",
    "plt.title('Confusion Matrix LightGBM')\n",
    "plt.xlabel('Predicted')\n",
    "plt.ylabel('Actual')\n",
    "plt.show()\n",
    "\n",
    "# Visualisasi ROC Curve\n",
    "y_pred_proba = lgb_model.predict_proba(X_test)[:, 1]\n",
    "fpr, tpr, thresholds = roc_curve(y_test, y_pred_proba)\n",
    "\n",
    "plt.figure(figsize=(8, 6))\n",
    "plt.plot(fpr, tpr, label='ROC Curve')\n",
    "plt.plot([0, 1], [0, 1], linestyle='--', label='Random')\n",
    "plt.title('ROC Curve')\n",
    "plt.xlabel('False Positive Rate')\n",
    "plt.ylabel('True Positive Rate')\n",
    "plt.legend()\n",
    "plt.show()\n",
    "\n",
    "# Area under ROC Curve\n",
    "roc_auc = roc_auc_score(y_test, y_pred_proba)\n",
    "print(f'\\nArea under ROC Curve: {roc_auc:.4f}')"
   ]
  },
  {
   "cell_type": "code",
   "execution_count": 95,
   "metadata": {
    "colab": {
     "base_uri": "https://localhost:8080/",
     "height": 1000
    },
    "id": "3M9_-LrG-H_1",
    "outputId": "37ffec85-168e-44ba-ef4f-33a024a6127f"
   },
   "outputs": [
    {
     "name": "stdout",
     "output_type": "stream",
     "text": [
      "Accuracy: 0.8920\n",
      "Precision: 0.8669\n",
      "Recall: 0.7581\n",
      "F1 Score: 0.8089\n",
      "\n",
      "Confusion Matrix:\n",
      "[[5407  286]\n",
      " [ 594 1862]]\n"
     ]
    },
    {
     "data": {
      "image/png": "[encoded data removed]",
      "text/plain": [
       "<Figure size 576x432 with 1 Axes>"
      ]
     },
     "metadata": {
      "needs_background": "light"
     },
     "output_type": "display_data"
    },
    {
     "name": "stdout",
     "output_type": "stream",
     "text": [
      "\n",
      "Classification Report:\n",
      "              precision    recall  f1-score   support\n",
      "\n",
      "           0       0.90      0.95      0.92      5693\n",
      "           1       0.87      0.76      0.81      2456\n",
      "\n",
      "    accuracy                           0.89      8149\n",
      "   macro avg       0.88      0.85      0.87      8149\n",
      "weighted avg       0.89      0.89      0.89      8149\n",
      "\n"
     ]
    },
    {
     "data": {
      "image/png": "[encoded data removed]",
      "text/plain": [
       "<Figure size 576x432 with 1 Axes>"
      ]
     },
     "metadata": {
      "needs_background": "light"
     },
     "output_type": "display_data"
    },
    {
     "name": "stdout",
     "output_type": "stream",
     "text": [
      "\n",
      "Area under ROC Curve: 0.8441\n"
     ]
    }
   ],
   "source": [
    "from sklearn.svm import SVC\n",
    "from sklearn.metrics import accuracy_score, precision_score, recall_score, f1_score, confusion_matrix, classification_report, roc_curve, roc_auc_score\n",
    "import matplotlib.pyplot as plt\n",
    "import seaborn as sns\n",
    "from sklearn.model_selection import train_test_split\n",
    "\n",
    "# Membagi data menjadi data latih dan data uji\n",
    "X_train, X_test, y_train, y_test = train_test_split(X, y, test_size=0.3, random_state=42)\n",
    "\n",
    "# Contoh: Membuat model SVC\n",
    "model = SVC(kernel='rbf', random_state=42)\n",
    "model.fit(X_train, y_train)\n",
    "\n",
    "# Menggunakan model untuk membuat prediksi\n",
    "y_pred = model.predict(X_test)\n",
    "\n",
    "# Menghitung metrik evaluasi\n",
    "accuracy = accuracy_score(y_test, y_pred)\n",
    "precision = precision_score(y_test, y_pred)\n",
    "recall = recall_score(y_test, y_pred)\n",
    "f1 = f1_score(y_test, y_pred)\n",
    "\n",
    "# Mencetak hasil evaluasi\n",
    "print(f'Accuracy: {accuracy:.4f}')\n",
    "print(f'Precision: {precision:.4f}')\n",
    "print(f'Recall: {recall:.4f}')\n",
    "print(f'F1 Score: {f1:.4f}')\n",
    "\n",
    "# Confusion Matrix\n",
    "conf_matrix = confusion_matrix(y_test, y_pred)\n",
    "print('\\nConfusion Matrix:')\n",
    "print(conf_matrix)\n",
    "\n",
    "# Visualisasi Confusion Matrix\n",
    "plt.figure(figsize=(8, 6))\n",
    "sns.heatmap(conf_matrix, annot=True, fmt='d', cmap='Blues', cbar=False)\n",
    "plt.title('Confusion Matrix')\n",
    "plt.xlabel('Predicted')\n",
    "plt.ylabel('Actual')\n",
    "plt.show()\n",
    "\n",
    "# Classification Report\n",
    "class_report = classification_report(y_test, y_pred)\n",
    "print('\\nClassification Report:')\n",
    "print(class_report)\n",
    "\n",
    "# Visualisasi ROC Curve\n",
    "y_pred_proba = model.decision_function(X_test)\n",
    "fpr, tpr, thresholds = roc_curve(y_test, y_pred_proba)\n",
    "\n",
    "plt.figure(figsize=(8, 6))\n",
    "plt.plot(fpr, tpr, label='ROC Curve')\n",
    "plt.plot([0, 1], [0, 1], linestyle='--', label='Random')\n",
    "plt.title('ROC Curve')\n",
    "plt.xlabel('False Positive Rate')\n",
    "plt.ylabel('True Positive Rate')\n",
    "plt.legend()\n",
    "plt.show()\n",
    "\n",
    "# Area under ROC Curve\n",
    "roc_auc = roc_auc_score(y_test, y_pred_proba)\n",
    "print(f'\\nArea under ROC Curve: {roc_auc:.4f}')"
   ]
  },
  {
   "cell_type": "code",
   "execution_count": 96,
   "metadata": {
    "colab": {
     "base_uri": "https://localhost:8080/",
     "height": 1000
    },
    "id": "8Ctj6DMd-JNI",
    "outputId": "37d4d1b3-3ed2-4d5a-f64e-ac20aa31991f"
   },
   "outputs": [
    {
     "name": "stdout",
     "output_type": "stream",
     "text": [
      "Accuracy: 0.8919\n",
      "Precision: 0.8668\n",
      "Recall: 0.7577\n",
      "F1 Score: 0.8086\n",
      "\n",
      "Confusion Matrix:\n",
      "[[5407  286]\n",
      " [ 595 1861]]\n"
     ]
    },
    {
     "data": {
      "image/png": "[encoded data removed]",
      "text/plain": [
       "<Figure size 576x432 with 1 Axes>"
      ]
     },
     "metadata": {
      "needs_background": "light"
     },
     "output_type": "display_data"
    },
    {
     "name": "stdout",
     "output_type": "stream",
     "text": [
      "\n",
      "Classification Report:\n",
      "              precision    recall  f1-score   support\n",
      "\n",
      "           0       0.90      0.95      0.92      5693\n",
      "           1       0.87      0.76      0.81      2456\n",
      "\n",
      "    accuracy                           0.89      8149\n",
      "   macro avg       0.88      0.85      0.87      8149\n",
      "weighted avg       0.89      0.89      0.89      8149\n",
      "\n"
     ]
    },
    {
     "data": {
      "image/png": "[encoded data removed]",
      "text/plain": [
       "<Figure size 576x432 with 1 Axes>"
      ]
     },
     "metadata": {
      "needs_background": "light"
     },
     "output_type": "display_data"
    },
    {
     "name": "stdout",
     "output_type": "stream",
     "text": [
      "\n",
      "Area under ROC Curve: 0.8919\n"
     ]
    }
   ],
   "source": [
    "from sklearn.ensemble import GradientBoostingClassifier\n",
    "from sklearn.metrics import accuracy_score, precision_score, recall_score, f1_score, confusion_matrix, classification_report, roc_curve, roc_auc_score\n",
    "import matplotlib.pyplot as plt\n",
    "import seaborn as sns\n",
    "from sklearn.model_selection import train_test_split\n",
    "\n",
    "# Membagi data menjadi data latih dan data uji\n",
    "X_train, X_test, y_train, y_test = train_test_split(X, y, test_size=0.3, random_state=42)\n",
    "\n",
    "# Contoh: Membuat model Gradient Boosting Classifier\n",
    "model_gdb = GradientBoostingClassifier(random_state=42)\n",
    "model_gdb.fit(X_train, y_train)\n",
    "\n",
    "# Menggunakan model untuk membuat prediksi\n",
    "y_pred = model_gdb.predict(X_test)\n",
    "\n",
    "# Menghitung metrik evaluasi\n",
    "accuracy = accuracy_score(y_test, y_pred)\n",
    "precision = precision_score(y_test, y_pred)\n",
    "recall = recall_score(y_test, y_pred)\n",
    "f1 = f1_score(y_test, y_pred)\n",
    "\n",
    "# Mencetak hasil evaluasi\n",
    "print(f'Accuracy: {accuracy:.4f}')\n",
    "print(f'Precision: {precision:.4f}')\n",
    "print(f'Recall: {recall:.4f}')\n",
    "print(f'F1 Score: {f1:.4f}')\n",
    "\n",
    "# Confusion Matrix\n",
    "conf_matrix = confusion_matrix(y_test, y_pred)\n",
    "print('\\nConfusion Matrix:')\n",
    "print(conf_matrix)\n",
    "\n",
    "# Visualisasi Confusion Matrix\n",
    "plt.figure(figsize=(8, 6))\n",
    "sns.heatmap(conf_matrix, annot=True, fmt='d', cmap='Blues', cbar=False)\n",
    "plt.title('Confusion Matrix')\n",
    "plt.xlabel('Predicted')\n",
    "plt.ylabel('Actual')\n",
    "plt.show()\n",
    "\n",
    "# Classification Report\n",
    "class_report = classification_report(y_test, y_pred)\n",
    "print('\\nClassification Report:')\n",
    "print(class_report)\n",
    "\n",
    "# Visualisasi ROC Curve\n",
    "y_pred_proba = model_gdb.predict_proba(X_test)[:, 1]\n",
    "fpr, tpr, thresholds = roc_curve(y_test, y_pred_proba)\n",
    "\n",
    "plt.figure(figsize=(8, 6))\n",
    "plt.plot(fpr, tpr, label='ROC Curve')\n",
    "plt.plot([0, 1], [0, 1], linestyle='--', label='Random')\n",
    "plt.title('ROC Curve')\n",
    "plt.xlabel('False Positive Rate')\n",
    "plt.ylabel('True Positive Rate')\n",
    "plt.legend()\n",
    "plt.show()\n",
    "\n",
    "# Area under ROC Curve\n",
    "roc_auc = roc_auc_score(y_test, y_pred_proba)\n",
    "print(f'\\nArea under ROC Curve: {roc_auc:.4f}')"
   ]
  },
  {
   "cell_type": "code",
   "execution_count": 97,
   "metadata": {
    "colab": {
     "base_uri": "https://localhost:8080/",
     "height": 1000
    },
    "id": "t6rl5PZouG55",
    "outputId": "82121715-1d59-4540-f2ed-d2a6bbeadaba"
   },
   "outputs": [
    {
     "name": "stdout",
     "output_type": "stream",
     "text": [
      "\n",
      "Results for Decision Tree Classifier:\n",
      "Accuracy: 0.8637\n",
      "Precision: 0.7582\n",
      "Recall: 0.8042\n",
      "F1 Score: 0.7805\n",
      "\n",
      "Confusion Matrix for Decision Tree:\n",
      "[[5063  630]\n",
      " [ 481 1975]]\n"
     ]
    },
    {
     "data": {
      "image/png": "[encoded data removed]",
      "text/plain": [
       "<Figure size 576x432 with 1 Axes>"
      ]
     },
     "metadata": {
      "needs_background": "light"
     },
     "output_type": "display_data"
    },
    {
     "name": "stdout",
     "output_type": "stream",
     "text": [
      "\n",
      "Classification Report for Decision Tree:\n",
      "              precision    recall  f1-score   support\n",
      "\n",
      "           0       0.91      0.89      0.90      5693\n",
      "           1       0.76      0.80      0.78      2456\n",
      "\n",
      "    accuracy                           0.86      8149\n",
      "   macro avg       0.84      0.85      0.84      8149\n",
      "weighted avg       0.87      0.86      0.86      8149\n",
      "\n"
     ]
    },
    {
     "data": {
      "image/png": "[encoded data removed]",
      "text/plain": [
       "<Figure size 576x432 with 1 Axes>"
      ]
     },
     "metadata": {
      "needs_background": "light"
     },
     "output_type": "display_data"
    },
    {
     "name": "stdout",
     "output_type": "stream",
     "text": [
      "\n",
      "Area under ROC Curve for Decision Tree: 0.8528\n"
     ]
    }
   ],
   "source": [
    "from sklearn.tree import DecisionTreeClassifier\n",
    "from sklearn.metrics import accuracy_score, precision_score, recall_score, f1_score, confusion_matrix, classification_report, roc_curve, roc_auc_score\n",
    "import matplotlib.pyplot as plt\n",
    "import seaborn as sns\n",
    "from sklearn.model_selection import train_test_split\n",
    "\n",
    "# Membagi data menjadi data latih dan data uji\n",
    "X_train, X_test, y_train, y_test = train_test_split(X, y, test_size=0.3, random_state=42)\n",
    "\n",
    "# Contoh: Membuat model (Decision Tree Classifier)\n",
    "dt_model = DecisionTreeClassifier(random_state=42)\n",
    "dt_model.fit(X_train, y_train)\n",
    "\n",
    "# Menggunakan model untuk membuat prediksi\n",
    "y_dt_pred = dt_model.predict(X_test)\n",
    "\n",
    "# Menghitung metrik evaluasi untuk Decision Tree\n",
    "dt_accuracy = accuracy_score(y_test, y_dt_pred)\n",
    "dt_precision = precision_score(y_test, y_dt_pred)\n",
    "dt_recall = recall_score(y_test, y_dt_pred)\n",
    "dt_f1 = f1_score(y_test, y_dt_pred)\n",
    "\n",
    "# Mencetak hasil evaluasi untuk Decision Tree\n",
    "print('\\nResults for Decision Tree Classifier:')\n",
    "print(f'Accuracy: {dt_accuracy:.4f}')\n",
    "print(f'Precision: {dt_precision:.4f}')\n",
    "print(f'Recall: {dt_recall:.4f}')\n",
    "print(f'F1 Score: {dt_f1:.4f}')\n",
    "\n",
    "# Confusion Matrix untuk Decision Tree\n",
    "dt_conf_matrix = confusion_matrix(y_test, y_dt_pred)\n",
    "print('\\nConfusion Matrix for Decision Tree:')\n",
    "print(dt_conf_matrix)\n",
    "\n",
    "# Visualisasi Confusion Matrix\n",
    "plt.figure(figsize=(8, 6))\n",
    "sns.heatmap(dt_conf_matrix, annot=True, fmt='d', cmap='Blues', cbar=False)\n",
    "plt.title('Confusion Matrix for Decision Tree')\n",
    "plt.xlabel('Predicted')\n",
    "plt.ylabel('Actual')\n",
    "plt.show()\n",
    "\n",
    "# Classification Report untuk Decision Tree\n",
    "dt_class_report = classification_report(y_test, y_dt_pred)\n",
    "print('\\nClassification Report for Decision Tree:')\n",
    "print(dt_class_report)\n",
    "\n",
    "# Visualisasi ROC Curve untuk Decision Tree\n",
    "y_dt_pred_proba = dt_model.predict_proba(X_test)[:, 1]\n",
    "fpr_dt, tpr_dt, thresholds_dt = roc_curve(y_test, y_dt_pred_proba)\n",
    "\n",
    "plt.figure(figsize=(8, 6))\n",
    "plt.plot(fpr_dt, tpr_dt, label='ROC Curve for Decision Tree')\n",
    "plt.plot([0, 1], [0, 1], linestyle='--', label='Random')\n",
    "plt.title('ROC Curve for Decision Tree')\n",
    "plt.xlabel('False Positive Rate')\n",
    "plt.ylabel('True Positive Rate')\n",
    "plt.legend()\n",
    "plt.show()\n",
    "\n",
    "# Area under ROC Curve untuk Decision Tree\n",
    "roc_auc_dt = roc_auc_score(y_test, y_dt_pred_proba)\n",
    "print(f'\\nArea under ROC Curve for Decision Tree: {roc_auc_dt:.4f}')"
   ]
  },
  {
   "cell_type": "code",
   "execution_count": 98,
   "metadata": {
    "colab": {
     "base_uri": "https://localhost:8080/",
     "height": 1000
    },
    "id": "Y_3tQK8aupN1",
    "outputId": "64c66673-066d-4f54-9b83-8a7c21428aa0"
   },
   "outputs": [
    {
     "name": "stdout",
     "output_type": "stream",
     "text": [
      "Accuracy: 0.8886\n",
      "Precision: 0.8550\n",
      "Recall: 0.7590\n",
      "F1 Score: 0.8041\n",
      "\n",
      "Confusion Matrix:\n",
      "[[5377  316]\n",
      " [ 592 1864]]\n"
     ]
    },
    {
     "data": {
      "image/png": "[encoded data removed]",
      "text/plain": [
       "<Figure size 576x432 with 1 Axes>"
      ]
     },
     "metadata": {
      "needs_background": "light"
     },
     "output_type": "display_data"
    },
    {
     "name": "stdout",
     "output_type": "stream",
     "text": [
      "\n",
      "Classification Report:\n",
      "              precision    recall  f1-score   support\n",
      "\n",
      "           0       0.90      0.94      0.92      5693\n",
      "           1       0.86      0.76      0.80      2456\n",
      "\n",
      "    accuracy                           0.89      8149\n",
      "   macro avg       0.88      0.85      0.86      8149\n",
      "weighted avg       0.89      0.89      0.89      8149\n",
      "\n"
     ]
    },
    {
     "data": {
      "image/png": "[encoded data removed]",
      "text/plain": [
       "<Figure size 576x432 with 1 Axes>"
      ]
     },
     "metadata": {
      "needs_background": "light"
     },
     "output_type": "display_data"
    },
    {
     "name": "stdout",
     "output_type": "stream",
     "text": [
      "\n",
      "Area under ROC Curve: 0.8808\n"
     ]
    }
   ],
   "source": [
    "from sklearn.linear_model import LogisticRegression\n",
    "from sklearn.metrics import accuracy_score, precision_score, recall_score, f1_score, confusion_matrix, classification_report, roc_curve, roc_auc_score\n",
    "import matplotlib.pyplot as plt\n",
    "import seaborn as sns\n",
    "from sklearn.model_selection import train_test_split\n",
    "\n",
    "# Membagi data menjadi data latih dan data uji\n",
    "X_train, X_test, y_train, y_test = train_test_split(X, y, test_size=0.3, random_state=42)\n",
    "\n",
    "# Membuat dan melatih model Logistic Regression\n",
    "logistic_model = LogisticRegression(random_state=42)\n",
    "logistic_model.fit(X_train, y_train)\n",
    "\n",
    "# Menggunakan model untuk membuat prediksi\n",
    "y_pred = logistic_model.predict(X_test)\n",
    "\n",
    "# Menghitung metrik evaluasi\n",
    "accuracy = accuracy_score(y_test, y_pred)\n",
    "precision = precision_score(y_test, y_pred)\n",
    "recall = recall_score(y_test, y_pred)\n",
    "f1 = f1_score(y_test, y_pred)\n",
    "\n",
    "# Mencetak hasil evaluasi\n",
    "print(f'Accuracy: {accuracy:.4f}')\n",
    "print(f'Precision: {precision:.4f}')\n",
    "print(f'Recall: {recall:.4f}')\n",
    "print(f'F1 Score: {f1:.4f}')\n",
    "\n",
    "# Confusion Matrix\n",
    "conf_matrix = confusion_matrix(y_test, y_pred)\n",
    "print('\\nConfusion Matrix:')\n",
    "print(conf_matrix)\n",
    "\n",
    "# Visualisasi Confusion Matrix\n",
    "plt.figure(figsize=(8, 6))\n",
    "sns.heatmap(conf_matrix, annot=True, fmt='d', cmap='Blues', cbar=False)\n",
    "plt.title('Confusion Matrix')\n",
    "plt.xlabel('Predicted')\n",
    "plt.ylabel('Actual')\n",
    "plt.show()\n",
    "\n",
    "# Classification Report\n",
    "class_report = classification_report(y_test, y_pred)\n",
    "print('\\nClassification Report:')\n",
    "print(class_report)\n",
    "\n",
    "# Visualisasi ROC Curve\n",
    "y_pred_proba = logistic_model.predict_proba(X_test)[:, 1]\n",
    "fpr, tpr, thresholds = roc_curve(y_test, y_pred_proba)\n",
    "\n",
    "plt.figure(figsize=(8, 6))\n",
    "plt.plot(fpr, tpr, label='ROC Curve')\n",
    "plt.plot([0, 1], [0, 1], linestyle='--', label='Random')\n",
    "plt.title('ROC Curve')\n",
    "plt.xlabel('False Positive Rate')\n",
    "plt.ylabel('True Positive Rate')\n",
    "plt.legend()\n",
    "plt.show()\n",
    "\n",
    "# Area under ROC Curve\n",
    "roc_auc = roc_auc_score(y_test, y_pred_proba)\n",
    "print(f'\\nArea under ROC Curve: {roc_auc:.4f}')"
   ]
  },
  {
   "cell_type": "code",
   "execution_count": 99,
   "metadata": {
    "colab": {
     "base_uri": "https://localhost:8080/",
     "height": 1000
    },
    "id": "1IBn2Z2VvXkW",
    "outputId": "36341884-d154-4f09-ba8e-9d43ada7858e"
   },
   "outputs": [
    {
     "name": "stdout",
     "output_type": "stream",
     "text": [
      "Accuracy: 0.8599\n",
      "Precision: 0.7651\n",
      "Recall: 0.7720\n",
      "F1 Score: 0.7685\n",
      "\n",
      "Confusion Matrix:\n",
      "[[5111  582]\n",
      " [ 560 1896]]\n"
     ]
    },
    {
     "data": {
      "image/png": "[encoded data removed]",
      "text/plain": [
       "<Figure size 576x432 with 1 Axes>"
      ]
     },
     "metadata": {
      "needs_background": "light"
     },
     "output_type": "display_data"
    },
    {
     "name": "stdout",
     "output_type": "stream",
     "text": [
      "\n",
      "Classification Report:\n",
      "              precision    recall  f1-score   support\n",
      "\n",
      "           0       0.90      0.90      0.90      5693\n",
      "           1       0.77      0.77      0.77      2456\n",
      "\n",
      "    accuracy                           0.86      8149\n",
      "   macro avg       0.83      0.83      0.83      8149\n",
      "weighted avg       0.86      0.86      0.86      8149\n",
      "\n"
     ]
    },
    {
     "data": {
      "image/png": "[encoded data removed]",
      "text/plain": [
       "<Figure size 576x432 with 1 Axes>"
      ]
     },
     "metadata": {
      "needs_background": "light"
     },
     "output_type": "display_data"
    },
    {
     "name": "stdout",
     "output_type": "stream",
     "text": [
      "\n",
      "Area under ROC Curve: 0.8932\n"
     ]
    }
   ],
   "source": [
    "from sklearn.neighbors import KNeighborsClassifier\n",
    "from sklearn.metrics import accuracy_score, precision_score, recall_score, f1_score, confusion_matrix, classification_report, roc_curve, roc_auc_score\n",
    "import matplotlib.pyplot as plt\n",
    "import seaborn as sns\n",
    "from sklearn.model_selection import train_test_split\n",
    "\n",
    "# Membagi data menjadi data latih dan data uji\n",
    "X_train, X_test, y_train, y_test = train_test_split(X, y, test_size=0.3, random_state=42)\n",
    "\n",
    "# Membuat dan melatih model KNN\n",
    "knn_model = KNeighborsClassifier(n_neighbors=3)  # Menentukan jumlah tetangga (neighbors)\n",
    "knn_model.fit(X_train, y_train)\n",
    "\n",
    "# Menggunakan model untuk membuat prediksi\n",
    "y_pred = knn_model.predict(X_test)\n",
    "\n",
    "# Menghitung metrik evaluasi\n",
    "accuracy = accuracy_score(y_test, y_pred)\n",
    "precision = precision_score(y_test, y_pred)\n",
    "recall = recall_score(y_test, y_pred)\n",
    "f1 = f1_score(y_test, y_pred)\n",
    "\n",
    "# Mencetak hasil evaluasi\n",
    "print(f'Accuracy: {accuracy:.4f}')\n",
    "print(f'Precision: {precision:.4f}')\n",
    "print(f'Recall: {recall:.4f}')\n",
    "print(f'F1 Score: {f1:.4f}')\n",
    "\n",
    "# Confusion Matrix\n",
    "conf_matrix = confusion_matrix(y_test, y_pred)\n",
    "print('\\nConfusion Matrix:')\n",
    "print(conf_matrix)\n",
    "\n",
    "# Visualisasi Confusion Matrix\n",
    "plt.figure(figsize=(8, 6))\n",
    "sns.heatmap(conf_matrix, annot=True, fmt='d', cmap='Blues', cbar=False)\n",
    "plt.title('Confusion Matrix')\n",
    "plt.xlabel('Predicted')\n",
    "plt.ylabel('Actual')\n",
    "plt.show()\n",
    "\n",
    "# Classification Report\n",
    "class_report = classification_report(y_test, y_pred)\n",
    "print('\\nClassification Report:')\n",
    "print(class_report)\n",
    "\n",
    "# Visualisasi ROC Curve\n",
    "y_pred_proba = knn_model.predict_proba(X_test)[:, 1]\n",
    "fpr, tpr, thresholds = roc_curve(y_test, y_pred_proba)\n",
    "\n",
    "plt.figure(figsize=(8, 6))\n",
    "plt.plot(fpr, tpr, label='ROC Curve')\n",
    "plt.plot([0, 1], [0, 1], linestyle='--', label='Random')\n",
    "plt.title('ROC Curve')\n",
    "plt.xlabel('False Positive Rate')\n",
    "plt.ylabel('True Positive Rate')\n",
    "plt.legend()\n",
    "plt.show()\n",
    "\n",
    "# Area under ROC Curve\n",
    "roc_auc = roc_auc_score(y_test, y_pred_proba)\n",
    "print(f'\\nArea under ROC Curve: {roc_auc:.4f}')"
   ]
  },
  {
   "cell_type": "code",
   "execution_count": 100,
   "metadata": {
    "colab": {
     "base_uri": "https://localhost:8080/",
     "height": 1000
    },
    "id": "RfwtXp5iv6dj",
    "outputId": "1d05fbfa-a797-467e-8792-4493d84e6512"
   },
   "outputs": [
    {
     "name": "stdout",
     "output_type": "stream",
     "text": [
      "Accuracy: 0.8697\n",
      "Precision: 0.7931\n",
      "Recall: 0.7679\n",
      "F1 Score: 0.7803\n",
      "\n",
      "Confusion Matrix:\n",
      "[[5201  492]\n",
      " [ 570 1886]]\n"
     ]
    },
    {
     "data": {
      "image/png": "[encoded data removed]",
      "text/plain": [
       "<Figure size 576x432 with 1 Axes>"
      ]
     },
     "metadata": {
      "needs_background": "light"
     },
     "output_type": "display_data"
    },
    {
     "name": "stdout",
     "output_type": "stream",
     "text": [
      "\n",
      "Classification Report:\n",
      "              precision    recall  f1-score   support\n",
      "\n",
      "           0       0.90      0.91      0.91      5693\n",
      "           1       0.79      0.77      0.78      2456\n",
      "\n",
      "    accuracy                           0.87      8149\n",
      "   macro avg       0.85      0.84      0.84      8149\n",
      "weighted avg       0.87      0.87      0.87      8149\n",
      "\n"
     ]
    },
    {
     "data": {
      "image/png": "[encoded data removed]",
      "text/plain": [
       "<Figure size 576x432 with 1 Axes>"
      ]
     },
     "metadata": {
      "needs_background": "light"
     },
     "output_type": "display_data"
    },
    {
     "name": "stdout",
     "output_type": "stream",
     "text": [
      "\n",
      "Area under ROC Curve: 0.8603\n"
     ]
    }
   ],
   "source": [
    "from sklearn.naive_bayes import GaussianNB\n",
    "from sklearn.metrics import accuracy_score, precision_score, recall_score, f1_score, confusion_matrix, classification_report, roc_curve, roc_auc_score\n",
    "import matplotlib.pyplot as plt\n",
    "import seaborn as sns\n",
    "from sklearn.model_selection import train_test_split\n",
    "\n",
    "# Membagi data menjadi data latih dan data uji\n",
    "X_train, X_test, y_train, y_test = train_test_split(X, y, test_size=0.3, random_state=42)\n",
    "\n",
    "# Membuat dan melatih model Gaussian Naive Bayes\n",
    "nb_model = GaussianNB()\n",
    "nb_model.fit(X_train, y_train)\n",
    "\n",
    "# Menggunakan model untuk membuat prediksi\n",
    "y_pred = nb_model.predict(X_test)\n",
    "\n",
    "# Menghitung metrik evaluasi\n",
    "accuracy = accuracy_score(y_test, y_pred)\n",
    "precision = precision_score(y_test, y_pred)\n",
    "recall = recall_score(y_test, y_pred)\n",
    "f1 = f1_score(y_test, y_pred)\n",
    "\n",
    "# Mencetak hasil evaluasi\n",
    "print(f'Accuracy: {accuracy:.4f}')\n",
    "print(f'Precision: {precision:.4f}')\n",
    "print(f'Recall: {recall:.4f}')\n",
    "print(f'F1 Score: {f1:.4f}')\n",
    "\n",
    "# Confusion Matrix\n",
    "conf_matrix = confusion_matrix(y_test, y_pred)\n",
    "print('\\nConfusion Matrix:')\n",
    "print(conf_matrix)\n",
    "\n",
    "# Visualisasi Confusion Matrix\n",
    "plt.figure(figsize=(8, 6))\n",
    "sns.heatmap(conf_matrix, annot=True, fmt='d', cmap='Blues', cbar=False)\n",
    "plt.title('Confusion Matrix')\n",
    "plt.xlabel('Predicted')\n",
    "plt.ylabel('Actual')\n",
    "plt.show()\n",
    "\n",
    "# Classification Report\n",
    "class_report = classification_report(y_test, y_pred)\n",
    "print('\\nClassification Report:')\n",
    "print(class_report)\n",
    "\n",
    "# Visualisasi ROC Curve\n",
    "y_pred_proba = nb_model.predict_proba(X_test)[:, 1]\n",
    "fpr, tpr, thresholds = roc_curve(y_test, y_pred_proba)\n",
    "\n",
    "plt.figure(figsize=(8, 6))\n",
    "plt.plot(fpr, tpr, label='ROC Curve')\n",
    "plt.plot([0, 1], [0, 1], linestyle='--', label='Random')\n",
    "plt.title('ROC Curve')\n",
    "plt.xlabel('False Positive Rate')\n",
    "plt.ylabel('True Positive Rate')\n",
    "plt.legend()\n",
    "plt.show()\n",
    "\n",
    "# Area under ROC Curve\n",
    "roc_auc = roc_auc_score(y_test, y_pred_proba)\n",
    "print(f'\\nArea under ROC Curve: {roc_auc:.4f}')"
   ]
  },
  {
   "cell_type": "code",
   "execution_count": 101,
   "metadata": {
    "colab": {
     "base_uri": "https://localhost:8080/"
    },
    "id": "QPodYTzCjUcS",
    "outputId": "e0f1dd87-9521-492b-ecde-9224d4d9763f"
   },
   "outputs": [],
   "source": [
    "import pickle\n",
    "\n",
    "# Simpan model ke file\n",
    "pickle.dump(model_gdb, open('model_gdb.pkl', 'wb'))"
   ]
  },
  {
   "cell_type": "code",
   "execution_count": null,
   "metadata": {},
   "outputs": [],
   "source": []
  }
 ],
 "metadata": {
  "colab": {
   "provenance": []
  },
  "kernelspec": {
   "display_name": "Python 3",
   "language": "python",
   "name": "python3"
  },
  "language_info": {
   "codemirror_mode": {
    "name": "ipython",
    "version": 3
   },
   "file_extension": ".py",
   "mimetype": "text/x-python",
   "name": "python",
   "nbconvert_exporter": "python",
   "pygments_lexer": "ipython3",
   "version": "3.8.5"
  }
 },
 "nbformat": 4,
 "nbformat_minor": 1
}
